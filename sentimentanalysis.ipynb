{
 "cells": [
  {
   "cell_type": "code",
   "execution_count": 1,
   "id": "ee321831",
   "metadata": {
    "execution": {
     "iopub.execute_input": "2025-01-20T21:06:27.605845Z",
     "iopub.status.busy": "2025-01-20T21:06:27.605418Z",
     "iopub.status.idle": "2025-01-20T21:06:34.449683Z",
     "shell.execute_reply": "2025-01-20T21:06:34.448159Z"
    },
    "papermill": {
     "duration": 6.857222,
     "end_time": "2025-01-20T21:06:34.452836",
     "exception": false,
     "start_time": "2025-01-20T21:06:27.595614",
     "status": "completed"
    },
    "tags": []
   },
   "outputs": [
    {
     "name": "stdout",
     "output_type": "stream",
     "text": [
      "Requirement already satisfied: tqdm in /usr/local/lib/python3.10/dist-packages (4.67.1)\r\n"
     ]
    }
   ],
   "source": [
    "!pip install tqdm\n"
   ]
  },
  {
   "cell_type": "code",
   "execution_count": 2,
   "id": "cd3c5e9e",
   "metadata": {
    "_cell_guid": "b1076dfc-b9ad-4769-8c92-a6c4dae69d19",
    "_uuid": "8f2839f25d086af736a60e9eeb907d3b93b6e0e5",
    "execution": {
     "iopub.execute_input": "2025-01-20T21:06:34.465881Z",
     "iopub.status.busy": "2025-01-20T21:06:34.465530Z",
     "iopub.status.idle": "2025-01-20T21:06:38.927388Z",
     "shell.execute_reply": "2025-01-20T21:06:38.926216Z"
    },
    "papermill": {
     "duration": 4.470862,
     "end_time": "2025-01-20T21:06:38.929783",
     "exception": false,
     "start_time": "2025-01-20T21:06:34.458921",
     "status": "completed"
    },
    "tags": []
   },
   "outputs": [],
   "source": [
    "import pandas as pd\n",
    "import numpy as np\n",
    "import seaborn as sns\n",
    "import matplotlib.pyplot as plt\n",
    "import nltk\n"
   ]
  },
  {
   "cell_type": "code",
   "execution_count": 3,
   "id": "f86b425c",
   "metadata": {
    "execution": {
     "iopub.execute_input": "2025-01-20T21:06:38.944482Z",
     "iopub.status.busy": "2025-01-20T21:06:38.943896Z",
     "iopub.status.idle": "2025-01-20T21:06:48.117881Z",
     "shell.execute_reply": "2025-01-20T21:06:48.116568Z"
    },
    "papermill": {
     "duration": 9.183217,
     "end_time": "2025-01-20T21:06:48.119877",
     "exception": false,
     "start_time": "2025-01-20T21:06:38.936660",
     "status": "completed"
    },
    "tags": []
   },
   "outputs": [
    {
     "data": {
      "text/html": [
       "<div>\n",
       "<style scoped>\n",
       "    .dataframe tbody tr th:only-of-type {\n",
       "        vertical-align: middle;\n",
       "    }\n",
       "\n",
       "    .dataframe tbody tr th {\n",
       "        vertical-align: top;\n",
       "    }\n",
       "\n",
       "    .dataframe thead th {\n",
       "        text-align: right;\n",
       "    }\n",
       "</style>\n",
       "<table border=\"1\" class=\"dataframe\">\n",
       "  <thead>\n",
       "    <tr style=\"text-align: right;\">\n",
       "      <th></th>\n",
       "      <th>Id</th>\n",
       "      <th>ProductId</th>\n",
       "      <th>UserId</th>\n",
       "      <th>ProfileName</th>\n",
       "      <th>HelpfulnessNumerator</th>\n",
       "      <th>HelpfulnessDenominator</th>\n",
       "      <th>Score</th>\n",
       "      <th>Time</th>\n",
       "      <th>Summary</th>\n",
       "      <th>Text</th>\n",
       "    </tr>\n",
       "  </thead>\n",
       "  <tbody>\n",
       "    <tr>\n",
       "      <th>0</th>\n",
       "      <td>1</td>\n",
       "      <td>B001E4KFG0</td>\n",
       "      <td>A3SGXH7AUHU8GW</td>\n",
       "      <td>delmartian</td>\n",
       "      <td>1</td>\n",
       "      <td>1</td>\n",
       "      <td>5</td>\n",
       "      <td>1303862400</td>\n",
       "      <td>Good Quality Dog Food</td>\n",
       "      <td>I have bought several of the Vitality canned d...</td>\n",
       "    </tr>\n",
       "    <tr>\n",
       "      <th>1</th>\n",
       "      <td>2</td>\n",
       "      <td>B00813GRG4</td>\n",
       "      <td>A1D87F6ZCVE5NK</td>\n",
       "      <td>dll pa</td>\n",
       "      <td>0</td>\n",
       "      <td>0</td>\n",
       "      <td>1</td>\n",
       "      <td>1346976000</td>\n",
       "      <td>Not as Advertised</td>\n",
       "      <td>Product arrived labeled as Jumbo Salted Peanut...</td>\n",
       "    </tr>\n",
       "    <tr>\n",
       "      <th>2</th>\n",
       "      <td>3</td>\n",
       "      <td>B000LQOCH0</td>\n",
       "      <td>ABXLMWJIXXAIN</td>\n",
       "      <td>Natalia Corres \"Natalia Corres\"</td>\n",
       "      <td>1</td>\n",
       "      <td>1</td>\n",
       "      <td>4</td>\n",
       "      <td>1219017600</td>\n",
       "      <td>\"Delight\" says it all</td>\n",
       "      <td>This is a confection that has been around a fe...</td>\n",
       "    </tr>\n",
       "    <tr>\n",
       "      <th>3</th>\n",
       "      <td>4</td>\n",
       "      <td>B000UA0QIQ</td>\n",
       "      <td>A395BORC6FGVXV</td>\n",
       "      <td>Karl</td>\n",
       "      <td>3</td>\n",
       "      <td>3</td>\n",
       "      <td>2</td>\n",
       "      <td>1307923200</td>\n",
       "      <td>Cough Medicine</td>\n",
       "      <td>If you are looking for the secret ingredient i...</td>\n",
       "    </tr>\n",
       "    <tr>\n",
       "      <th>4</th>\n",
       "      <td>5</td>\n",
       "      <td>B006K2ZZ7K</td>\n",
       "      <td>A1UQRSCLF8GW1T</td>\n",
       "      <td>Michael D. Bigham \"M. Wassir\"</td>\n",
       "      <td>0</td>\n",
       "      <td>0</td>\n",
       "      <td>5</td>\n",
       "      <td>1350777600</td>\n",
       "      <td>Great taffy</td>\n",
       "      <td>Great taffy at a great price.  There was a wid...</td>\n",
       "    </tr>\n",
       "    <tr>\n",
       "      <th>5</th>\n",
       "      <td>6</td>\n",
       "      <td>B006K2ZZ7K</td>\n",
       "      <td>ADT0SRK1MGOEU</td>\n",
       "      <td>Twoapennything</td>\n",
       "      <td>0</td>\n",
       "      <td>0</td>\n",
       "      <td>4</td>\n",
       "      <td>1342051200</td>\n",
       "      <td>Nice Taffy</td>\n",
       "      <td>I got a wild hair for taffy and ordered this f...</td>\n",
       "    </tr>\n",
       "    <tr>\n",
       "      <th>6</th>\n",
       "      <td>7</td>\n",
       "      <td>B006K2ZZ7K</td>\n",
       "      <td>A1SP2KVKFXXRU1</td>\n",
       "      <td>David C. Sullivan</td>\n",
       "      <td>0</td>\n",
       "      <td>0</td>\n",
       "      <td>5</td>\n",
       "      <td>1340150400</td>\n",
       "      <td>Great!  Just as good as the expensive brands!</td>\n",
       "      <td>This saltwater taffy had great flavors and was...</td>\n",
       "    </tr>\n",
       "    <tr>\n",
       "      <th>7</th>\n",
       "      <td>8</td>\n",
       "      <td>B006K2ZZ7K</td>\n",
       "      <td>A3JRGQVEQN31IQ</td>\n",
       "      <td>Pamela G. Williams</td>\n",
       "      <td>0</td>\n",
       "      <td>0</td>\n",
       "      <td>5</td>\n",
       "      <td>1336003200</td>\n",
       "      <td>Wonderful, tasty taffy</td>\n",
       "      <td>This taffy is so good.  It is very soft and ch...</td>\n",
       "    </tr>\n",
       "    <tr>\n",
       "      <th>8</th>\n",
       "      <td>9</td>\n",
       "      <td>B000E7L2R4</td>\n",
       "      <td>A1MZYO9TZK0BBI</td>\n",
       "      <td>R. James</td>\n",
       "      <td>1</td>\n",
       "      <td>1</td>\n",
       "      <td>5</td>\n",
       "      <td>1322006400</td>\n",
       "      <td>Yay Barley</td>\n",
       "      <td>Right now I'm mostly just sprouting this so my...</td>\n",
       "    </tr>\n",
       "    <tr>\n",
       "      <th>9</th>\n",
       "      <td>10</td>\n",
       "      <td>B00171APVA</td>\n",
       "      <td>A21BT40VZCCYT4</td>\n",
       "      <td>Carol A. Reed</td>\n",
       "      <td>0</td>\n",
       "      <td>0</td>\n",
       "      <td>5</td>\n",
       "      <td>1351209600</td>\n",
       "      <td>Healthy Dog Food</td>\n",
       "      <td>This is a very healthy dog food. Good for thei...</td>\n",
       "    </tr>\n",
       "  </tbody>\n",
       "</table>\n",
       "</div>"
      ],
      "text/plain": [
       "   Id   ProductId          UserId                      ProfileName  \\\n",
       "0   1  B001E4KFG0  A3SGXH7AUHU8GW                       delmartian   \n",
       "1   2  B00813GRG4  A1D87F6ZCVE5NK                           dll pa   \n",
       "2   3  B000LQOCH0   ABXLMWJIXXAIN  Natalia Corres \"Natalia Corres\"   \n",
       "3   4  B000UA0QIQ  A395BORC6FGVXV                             Karl   \n",
       "4   5  B006K2ZZ7K  A1UQRSCLF8GW1T    Michael D. Bigham \"M. Wassir\"   \n",
       "5   6  B006K2ZZ7K   ADT0SRK1MGOEU                   Twoapennything   \n",
       "6   7  B006K2ZZ7K  A1SP2KVKFXXRU1                David C. Sullivan   \n",
       "7   8  B006K2ZZ7K  A3JRGQVEQN31IQ               Pamela G. Williams   \n",
       "8   9  B000E7L2R4  A1MZYO9TZK0BBI                         R. James   \n",
       "9  10  B00171APVA  A21BT40VZCCYT4                    Carol A. Reed   \n",
       "\n",
       "   HelpfulnessNumerator  HelpfulnessDenominator  Score        Time  \\\n",
       "0                     1                       1      5  1303862400   \n",
       "1                     0                       0      1  1346976000   \n",
       "2                     1                       1      4  1219017600   \n",
       "3                     3                       3      2  1307923200   \n",
       "4                     0                       0      5  1350777600   \n",
       "5                     0                       0      4  1342051200   \n",
       "6                     0                       0      5  1340150400   \n",
       "7                     0                       0      5  1336003200   \n",
       "8                     1                       1      5  1322006400   \n",
       "9                     0                       0      5  1351209600   \n",
       "\n",
       "                                         Summary  \\\n",
       "0                          Good Quality Dog Food   \n",
       "1                              Not as Advertised   \n",
       "2                          \"Delight\" says it all   \n",
       "3                                 Cough Medicine   \n",
       "4                                    Great taffy   \n",
       "5                                     Nice Taffy   \n",
       "6  Great!  Just as good as the expensive brands!   \n",
       "7                         Wonderful, tasty taffy   \n",
       "8                                     Yay Barley   \n",
       "9                               Healthy Dog Food   \n",
       "\n",
       "                                                Text  \n",
       "0  I have bought several of the Vitality canned d...  \n",
       "1  Product arrived labeled as Jumbo Salted Peanut...  \n",
       "2  This is a confection that has been around a fe...  \n",
       "3  If you are looking for the secret ingredient i...  \n",
       "4  Great taffy at a great price.  There was a wid...  \n",
       "5  I got a wild hair for taffy and ordered this f...  \n",
       "6  This saltwater taffy had great flavors and was...  \n",
       "7  This taffy is so good.  It is very soft and ch...  \n",
       "8  Right now I'm mostly just sprouting this so my...  \n",
       "9  This is a very healthy dog food. Good for thei...  "
      ]
     },
     "execution_count": 3,
     "metadata": {},
     "output_type": "execute_result"
    }
   ],
   "source": [
    "plt.style.use('ggplot')\n",
    "\n",
    "df=pd.read_csv('/kaggle/input/amazon-fine-food-reviews/Reviews.csv')#veri okuma\n",
    "df=df.head(10)\n",
    "df\n"
   ]
  },
  {
   "cell_type": "code",
   "execution_count": 4,
   "id": "a1f041c0",
   "metadata": {
    "execution": {
     "iopub.execute_input": "2025-01-20T21:06:48.134102Z",
     "iopub.status.busy": "2025-01-20T21:06:48.133744Z",
     "iopub.status.idle": "2025-01-20T21:06:48.539654Z",
     "shell.execute_reply": "2025-01-20T21:06:48.538312Z"
    },
    "papermill": {
     "duration": 0.415303,
     "end_time": "2025-01-20T21:06:48.541801",
     "exception": false,
     "start_time": "2025-01-20T21:06:48.126498",
     "status": "completed"
    },
    "tags": []
   },
   "outputs": [
    {
     "data": {
      "text/plain": [
       "<Axes: title={'center': 'Birden beşe kadar olan bütün puanların toplam oylamalari'}, xlabel='Score'>"
      ]
     },
     "execution_count": 4,
     "metadata": {},
     "output_type": "execute_result"
    },
    {
     "data": {
      "image/png": "[encoded data removed]",
      "text/plain": [
       "<Figure size 640x480 with 1 Axes>"
      ]
     },
     "metadata": {},
     "output_type": "display_data"
    }
   ],
   "source": [
    "df['Score'].value_counts().sort_index().plot(kind=\"bar\",title=\"Birden beşe kadar olan bütün puanların toplam oylamalari\")\n"
   ]
  },
  {
   "cell_type": "markdown",
   "id": "a733b1ac",
   "metadata": {
    "papermill": {
     "duration": 0.006081,
     "end_time": "2025-01-20T21:06:48.554835",
     "exception": false,
     "start_time": "2025-01-20T21:06:48.548754",
     "status": "completed"
    },
    "tags": []
   },
   "source": [
    "# Basic NLTK "
   ]
  },
  {
   "cell_type": "markdown",
   "id": "93bb03b5",
   "metadata": {
    "papermill": {
     "duration": 0.00597,
     "end_time": "2025-01-20T21:06:48.567609",
     "exception": false,
     "start_time": "2025-01-20T21:06:48.561639",
     "status": "completed"
    },
    "tags": []
   },
   "source": []
  },
  {
   "cell_type": "code",
   "execution_count": null,
   "id": "f35d0543",
   "metadata": {
    "papermill": {
     "duration": 0.005913,
     "end_time": "2025-01-20T21:06:48.579907",
     "exception": false,
     "start_time": "2025-01-20T21:06:48.573994",
     "status": "completed"
    },
    "tags": []
   },
   "outputs": [],
   "source": []
  },
  {
   "cell_type": "code",
   "execution_count": null,
   "id": "b81056a5",
   "metadata": {
    "papermill": {
     "duration": 0.006167,
     "end_time": "2025-01-20T21:06:48.592540",
     "exception": false,
     "start_time": "2025-01-20T21:06:48.586373",
     "status": "completed"
    },
    "tags": []
   },
   "outputs": [],
   "source": []
  },
  {
   "cell_type": "code",
   "execution_count": 5,
   "id": "4b392e1f",
   "metadata": {
    "execution": {
     "iopub.execute_input": "2025-01-20T21:06:48.608948Z",
     "iopub.status.busy": "2025-01-20T21:06:48.608590Z",
     "iopub.status.idle": "2025-01-20T21:06:48.615766Z",
     "shell.execute_reply": "2025-01-20T21:06:48.614565Z"
    },
    "papermill": {
     "duration": 0.018625,
     "end_time": "2025-01-20T21:06:48.618004",
     "exception": false,
     "start_time": "2025-01-20T21:06:48.599379",
     "status": "completed"
    },
    "tags": []
   },
   "outputs": [
    {
     "data": {
      "text/plain": [
       "'Product arrived labeled as Jumbo Salted Peanuts...the peanuts were actually small sized unsalted. Not sure if this was an error or if the vendor intended to represent the product as \"Jumbo\".'"
      ]
     },
     "execution_count": 5,
     "metadata": {},
     "output_type": "execute_result"
    }
   ],
   "source": [
    "example=df['Text'][1] #1. satırdaki text sütunundaki cümleyi alır\n",
    "example"
   ]
  },
  {
   "cell_type": "code",
   "execution_count": 6,
   "id": "e55e3d35",
   "metadata": {
    "execution": {
     "iopub.execute_input": "2025-01-20T21:06:48.633465Z",
     "iopub.status.busy": "2025-01-20T21:06:48.633061Z",
     "iopub.status.idle": "2025-01-20T21:06:48.651340Z",
     "shell.execute_reply": "2025-01-20T21:06:48.650042Z"
    },
    "papermill": {
     "duration": 0.028573,
     "end_time": "2025-01-20T21:06:48.653608",
     "exception": false,
     "start_time": "2025-01-20T21:06:48.625035",
     "status": "completed"
    },
    "tags": []
   },
   "outputs": [],
   "source": [
    "word_tokens=nltk.word_tokenize(example) #Cümleyi kelimelere ayırır"
   ]
  },
  {
   "cell_type": "code",
   "execution_count": 7,
   "id": "7e0a4517",
   "metadata": {
    "execution": {
     "iopub.execute_input": "2025-01-20T21:06:48.670080Z",
     "iopub.status.busy": "2025-01-20T21:06:48.669698Z",
     "iopub.status.idle": "2025-01-20T21:06:48.809635Z",
     "shell.execute_reply": "2025-01-20T21:06:48.808269Z"
    },
    "papermill": {
     "duration": 0.151172,
     "end_time": "2025-01-20T21:06:48.812025",
     "exception": false,
     "start_time": "2025-01-20T21:06:48.660853",
     "status": "completed"
    },
    "tags": []
   },
   "outputs": [],
   "source": [
    "tagged=nltk.pos_tag(word_tokens) #Bu etiketler, her kelimenin cümledeki dilbilgisel rolünü (isim, fiil, sıfat, edat vb.) belirtir."
   ]
  },
  {
   "cell_type": "code",
   "execution_count": null,
   "id": "7ff0eeea",
   "metadata": {
    "papermill": {
     "duration": 0.00649,
     "end_time": "2025-01-20T21:06:48.825558",
     "exception": false,
     "start_time": "2025-01-20T21:06:48.819068",
     "status": "completed"
    },
    "tags": []
   },
   "outputs": [],
   "source": []
  },
  {
   "cell_type": "code",
   "execution_count": 8,
   "id": "3becfdfd",
   "metadata": {
    "execution": {
     "iopub.execute_input": "2025-01-20T21:06:48.840679Z",
     "iopub.status.busy": "2025-01-20T21:06:48.840300Z",
     "iopub.status.idle": "2025-01-20T21:06:48.997247Z",
     "shell.execute_reply": "2025-01-20T21:06:48.995387Z"
    },
    "papermill": {
     "duration": 0.167218,
     "end_time": "2025-01-20T21:06:48.999598",
     "exception": false,
     "start_time": "2025-01-20T21:06:48.832380",
     "status": "completed"
    },
    "tags": []
   },
   "outputs": [
    {
     "name": "stdout",
     "output_type": "stream",
     "text": [
      "(S\n",
      "  (GPE Product/NNP)\n",
      "  arrived/VBD\n",
      "  labeled/VBN\n",
      "  as/IN\n",
      "  (PERSON Jumbo/NNP Salted/NNP Peanuts/NNP)\n",
      "  .../:\n",
      "  the/DT\n",
      "  peanuts/NNS\n",
      "  were/VBD\n",
      "  actually/RB\n",
      "  small/JJ\n",
      "  sized/VBN\n",
      "  unsalted/JJ\n",
      "  ./.\n",
      "  Not/RB\n",
      "  sure/JJ\n",
      "  if/IN\n",
      "  this/DT\n",
      "  was/VBD\n",
      "  an/DT\n",
      "  error/NN\n",
      "  or/CC\n",
      "  if/IN\n",
      "  the/DT\n",
      "  vendor/NN\n",
      "  intended/VBN\n",
      "  to/TO\n",
      "  represent/VB\n",
      "  the/DT\n",
      "  product/NN\n",
      "  as/IN\n",
      "  ``/``\n",
      "  Jumbo/NNP\n",
      "  ''/''\n",
      "  ./.)\n"
     ]
    }
   ],
   "source": [
    "entities=nltk.chunk.ne_chunk(tagged)\n",
    "entities.pprint()"
   ]
  },
  {
   "cell_type": "markdown",
   "id": "efeee785",
   "metadata": {
    "papermill": {
     "duration": 0.00742,
     "end_time": "2025-01-20T21:06:49.015060",
     "exception": false,
     "start_time": "2025-01-20T21:06:49.007640",
     "status": "completed"
    },
    "tags": []
   },
   "source": [
    "# Step 1. VADER Seniment Scoring\n",
    "  NLTK'nin SentimentIntensityAnalyzer'ını kullanarak metnin negatif (neg), nötr (neu) ve pozitif (pos) puanlarını elde edeceğiz.\n",
    "\n",
    "      * Bu, \"bag of words\" (kelime torbası) yaklaşımını kullanır:\n",
    "\n",
    "          1.  Stop words (önemsiz kelimeler) kaldırılır.\n",
    "          2. Her kelime puanlanır ve toplam bir puan oluşturmak için birleştirilir."
   ]
  },
  {
   "cell_type": "code",
   "execution_count": 9,
   "id": "dd7fb7df",
   "metadata": {
    "execution": {
     "iopub.execute_input": "2025-01-20T21:06:49.031168Z",
     "iopub.status.busy": "2025-01-20T21:06:49.030697Z",
     "iopub.status.idle": "2025-01-20T21:06:49.079401Z",
     "shell.execute_reply": "2025-01-20T21:06:49.078233Z"
    },
    "papermill": {
     "duration": 0.059696,
     "end_time": "2025-01-20T21:06:49.081904",
     "exception": false,
     "start_time": "2025-01-20T21:06:49.022208",
     "status": "completed"
    },
    "tags": []
   },
   "outputs": [
    {
     "name": "stderr",
     "output_type": "stream",
     "text": [
      "/usr/local/lib/python3.10/dist-packages/nltk/twitter/__init__.py:20: UserWarning: The twython library has not been installed. Some functionality from the twitter package will not be available.\n",
      "  warnings.warn(\"The twython library has not been installed. \"\n"
     ]
    }
   ],
   "source": [
    "from nltk.sentiment  import SentimentIntensityAnalyzer\n",
    "from tqdm.notebook import tqdm\n"
   ]
  },
  {
   "cell_type": "code",
   "execution_count": 10,
   "id": "c76ae0b5",
   "metadata": {
    "execution": {
     "iopub.execute_input": "2025-01-20T21:06:49.097456Z",
     "iopub.status.busy": "2025-01-20T21:06:49.097005Z",
     "iopub.status.idle": "2025-01-20T21:06:49.121453Z",
     "shell.execute_reply": "2025-01-20T21:06:49.120093Z"
    },
    "papermill": {
     "duration": 0.034649,
     "end_time": "2025-01-20T21:06:49.123589",
     "exception": false,
     "start_time": "2025-01-20T21:06:49.088940",
     "status": "completed"
    },
    "tags": []
   },
   "outputs": [
    {
     "data": {
      "text/plain": [
       "{'neg': 0.0, 'neu': 0.334, 'pos': 0.666, 'compound': 0.6115}"
      ]
     },
     "execution_count": 10,
     "metadata": {},
     "output_type": "execute_result"
    }
   ],
   "source": [
    "sia=SentimentIntensityAnalyzer()\n",
    "sia.polarity_scores(\"I am so happy\")"
   ]
  },
  {
   "cell_type": "code",
   "execution_count": 11,
   "id": "9a5abeb3",
   "metadata": {
    "execution": {
     "iopub.execute_input": "2025-01-20T21:06:49.139320Z",
     "iopub.status.busy": "2025-01-20T21:06:49.138836Z",
     "iopub.status.idle": "2025-01-20T21:06:49.145824Z",
     "shell.execute_reply": "2025-01-20T21:06:49.144645Z"
    },
    "papermill": {
     "duration": 0.017261,
     "end_time": "2025-01-20T21:06:49.148005",
     "exception": false,
     "start_time": "2025-01-20T21:06:49.130744",
     "status": "completed"
    },
    "tags": []
   },
   "outputs": [
    {
     "data": {
      "text/plain": [
       "{'neg': 0.451, 'neu': 0.549, 'pos': 0.0, 'compound': -0.6249}"
      ]
     },
     "execution_count": 11,
     "metadata": {},
     "output_type": "execute_result"
    }
   ],
   "source": [
    "sia.polarity_scores(\"the is the worst thing ever\")"
   ]
  },
  {
   "cell_type": "code",
   "execution_count": 12,
   "id": "b206238b",
   "metadata": {
    "execution": {
     "iopub.execute_input": "2025-01-20T21:06:49.163422Z",
     "iopub.status.busy": "2025-01-20T21:06:49.162956Z",
     "iopub.status.idle": "2025-01-20T21:06:49.170273Z",
     "shell.execute_reply": "2025-01-20T21:06:49.168953Z"
    },
    "papermill": {
     "duration": 0.016951,
     "end_time": "2025-01-20T21:06:49.171944",
     "exception": false,
     "start_time": "2025-01-20T21:06:49.154993",
     "status": "completed"
    },
    "tags": []
   },
   "outputs": [
    {
     "data": {
      "text/plain": [
       "{'neg': 0.079, 'neu': 0.853, 'pos': 0.068, 'compound': -0.1027}"
      ]
     },
     "execution_count": 12,
     "metadata": {},
     "output_type": "execute_result"
    }
   ],
   "source": [
    "sia.polarity_scores(example)"
   ]
  },
  {
   "cell_type": "code",
   "execution_count": 13,
   "id": "7c4dca4c",
   "metadata": {
    "execution": {
     "iopub.execute_input": "2025-01-20T21:06:49.187555Z",
     "iopub.status.busy": "2025-01-20T21:06:49.187049Z",
     "iopub.status.idle": "2025-01-20T21:06:49.219591Z",
     "shell.execute_reply": "2025-01-20T21:06:49.218137Z"
    },
    "papermill": {
     "duration": 0.043342,
     "end_time": "2025-01-20T21:06:49.222177",
     "exception": false,
     "start_time": "2025-01-20T21:06:49.178835",
     "status": "completed"
    },
    "tags": []
   },
   "outputs": [
    {
     "data": {
      "application/vnd.jupyter.widget-view+json": {
       "model_id": "b283b5c49d4e471e9326dc5971f8bd31",
       "version_major": 2,
       "version_minor": 0
      },
      "text/plain": [
       "  0%|          | 0/10 [00:00<?, ?it/s]"
      ]
     },
     "metadata": {},
     "output_type": "display_data"
    }
   ],
   "source": [
    "res={} #\n",
    "for i,row in tqdm(df.iterrows(),total=len(df)):\n",
    "    id=row['Id']\n",
    "    text=row['Text']\n",
    "    res[id]=sia.polarity_scores(text)\n",
    "    \n",
    "\n",
    " \n",
    "\n",
    "\n",
    "\n"
   ]
  },
  {
   "cell_type": "code",
   "execution_count": 14,
   "id": "dd388903",
   "metadata": {
    "execution": {
     "iopub.execute_input": "2025-01-20T21:06:49.239221Z",
     "iopub.status.busy": "2025-01-20T21:06:49.238751Z",
     "iopub.status.idle": "2025-01-20T21:06:49.268785Z",
     "shell.execute_reply": "2025-01-20T21:06:49.267587Z"
    },
    "papermill": {
     "duration": 0.040946,
     "end_time": "2025-01-20T21:06:49.270815",
     "exception": false,
     "start_time": "2025-01-20T21:06:49.229869",
     "status": "completed"
    },
    "tags": []
   },
   "outputs": [
    {
     "data": {
      "text/html": [
       "<div>\n",
       "<style scoped>\n",
       "    .dataframe tbody tr th:only-of-type {\n",
       "        vertical-align: middle;\n",
       "    }\n",
       "\n",
       "    .dataframe tbody tr th {\n",
       "        vertical-align: top;\n",
       "    }\n",
       "\n",
       "    .dataframe thead th {\n",
       "        text-align: right;\n",
       "    }\n",
       "</style>\n",
       "<table border=\"1\" class=\"dataframe\">\n",
       "  <thead>\n",
       "    <tr style=\"text-align: right;\">\n",
       "      <th></th>\n",
       "      <th>Id</th>\n",
       "      <th>neg</th>\n",
       "      <th>neu</th>\n",
       "      <th>pos</th>\n",
       "      <th>compound</th>\n",
       "      <th>ProductId</th>\n",
       "      <th>UserId</th>\n",
       "      <th>ProfileName</th>\n",
       "      <th>HelpfulnessNumerator</th>\n",
       "      <th>HelpfulnessDenominator</th>\n",
       "      <th>Score</th>\n",
       "      <th>Time</th>\n",
       "      <th>Summary</th>\n",
       "      <th>Text</th>\n",
       "    </tr>\n",
       "  </thead>\n",
       "  <tbody>\n",
       "    <tr>\n",
       "      <th>0</th>\n",
       "      <td>1</td>\n",
       "      <td>0.000</td>\n",
       "      <td>0.695</td>\n",
       "      <td>0.305</td>\n",
       "      <td>0.9441</td>\n",
       "      <td>B001E4KFG0</td>\n",
       "      <td>A3SGXH7AUHU8GW</td>\n",
       "      <td>delmartian</td>\n",
       "      <td>1</td>\n",
       "      <td>1</td>\n",
       "      <td>5</td>\n",
       "      <td>1303862400</td>\n",
       "      <td>Good Quality Dog Food</td>\n",
       "      <td>I have bought several of the Vitality canned d...</td>\n",
       "    </tr>\n",
       "    <tr>\n",
       "      <th>1</th>\n",
       "      <td>2</td>\n",
       "      <td>0.079</td>\n",
       "      <td>0.853</td>\n",
       "      <td>0.068</td>\n",
       "      <td>-0.1027</td>\n",
       "      <td>B00813GRG4</td>\n",
       "      <td>A1D87F6ZCVE5NK</td>\n",
       "      <td>dll pa</td>\n",
       "      <td>0</td>\n",
       "      <td>0</td>\n",
       "      <td>1</td>\n",
       "      <td>1346976000</td>\n",
       "      <td>Not as Advertised</td>\n",
       "      <td>Product arrived labeled as Jumbo Salted Peanut...</td>\n",
       "    </tr>\n",
       "    <tr>\n",
       "      <th>2</th>\n",
       "      <td>3</td>\n",
       "      <td>0.091</td>\n",
       "      <td>0.754</td>\n",
       "      <td>0.155</td>\n",
       "      <td>0.8265</td>\n",
       "      <td>B000LQOCH0</td>\n",
       "      <td>ABXLMWJIXXAIN</td>\n",
       "      <td>Natalia Corres \"Natalia Corres\"</td>\n",
       "      <td>1</td>\n",
       "      <td>1</td>\n",
       "      <td>4</td>\n",
       "      <td>1219017600</td>\n",
       "      <td>\"Delight\" says it all</td>\n",
       "      <td>This is a confection that has been around a fe...</td>\n",
       "    </tr>\n",
       "    <tr>\n",
       "      <th>3</th>\n",
       "      <td>4</td>\n",
       "      <td>0.000</td>\n",
       "      <td>1.000</td>\n",
       "      <td>0.000</td>\n",
       "      <td>0.0000</td>\n",
       "      <td>B000UA0QIQ</td>\n",
       "      <td>A395BORC6FGVXV</td>\n",
       "      <td>Karl</td>\n",
       "      <td>3</td>\n",
       "      <td>3</td>\n",
       "      <td>2</td>\n",
       "      <td>1307923200</td>\n",
       "      <td>Cough Medicine</td>\n",
       "      <td>If you are looking for the secret ingredient i...</td>\n",
       "    </tr>\n",
       "    <tr>\n",
       "      <th>4</th>\n",
       "      <td>5</td>\n",
       "      <td>0.000</td>\n",
       "      <td>0.552</td>\n",
       "      <td>0.448</td>\n",
       "      <td>0.9468</td>\n",
       "      <td>B006K2ZZ7K</td>\n",
       "      <td>A1UQRSCLF8GW1T</td>\n",
       "      <td>Michael D. Bigham \"M. Wassir\"</td>\n",
       "      <td>0</td>\n",
       "      <td>0</td>\n",
       "      <td>5</td>\n",
       "      <td>1350777600</td>\n",
       "      <td>Great taffy</td>\n",
       "      <td>Great taffy at a great price.  There was a wid...</td>\n",
       "    </tr>\n",
       "    <tr>\n",
       "      <th>5</th>\n",
       "      <td>6</td>\n",
       "      <td>0.029</td>\n",
       "      <td>0.809</td>\n",
       "      <td>0.163</td>\n",
       "      <td>0.8830</td>\n",
       "      <td>B006K2ZZ7K</td>\n",
       "      <td>ADT0SRK1MGOEU</td>\n",
       "      <td>Twoapennything</td>\n",
       "      <td>0</td>\n",
       "      <td>0</td>\n",
       "      <td>4</td>\n",
       "      <td>1342051200</td>\n",
       "      <td>Nice Taffy</td>\n",
       "      <td>I got a wild hair for taffy and ordered this f...</td>\n",
       "    </tr>\n",
       "    <tr>\n",
       "      <th>6</th>\n",
       "      <td>7</td>\n",
       "      <td>0.034</td>\n",
       "      <td>0.693</td>\n",
       "      <td>0.273</td>\n",
       "      <td>0.9346</td>\n",
       "      <td>B006K2ZZ7K</td>\n",
       "      <td>A1SP2KVKFXXRU1</td>\n",
       "      <td>David C. Sullivan</td>\n",
       "      <td>0</td>\n",
       "      <td>0</td>\n",
       "      <td>5</td>\n",
       "      <td>1340150400</td>\n",
       "      <td>Great!  Just as good as the expensive brands!</td>\n",
       "      <td>This saltwater taffy had great flavors and was...</td>\n",
       "    </tr>\n",
       "    <tr>\n",
       "      <th>7</th>\n",
       "      <td>8</td>\n",
       "      <td>0.000</td>\n",
       "      <td>0.520</td>\n",
       "      <td>0.480</td>\n",
       "      <td>0.9487</td>\n",
       "      <td>B006K2ZZ7K</td>\n",
       "      <td>A3JRGQVEQN31IQ</td>\n",
       "      <td>Pamela G. Williams</td>\n",
       "      <td>0</td>\n",
       "      <td>0</td>\n",
       "      <td>5</td>\n",
       "      <td>1336003200</td>\n",
       "      <td>Wonderful, tasty taffy</td>\n",
       "      <td>This taffy is so good.  It is very soft and ch...</td>\n",
       "    </tr>\n",
       "    <tr>\n",
       "      <th>8</th>\n",
       "      <td>9</td>\n",
       "      <td>0.000</td>\n",
       "      <td>0.851</td>\n",
       "      <td>0.149</td>\n",
       "      <td>0.6369</td>\n",
       "      <td>B000E7L2R4</td>\n",
       "      <td>A1MZYO9TZK0BBI</td>\n",
       "      <td>R. James</td>\n",
       "      <td>1</td>\n",
       "      <td>1</td>\n",
       "      <td>5</td>\n",
       "      <td>1322006400</td>\n",
       "      <td>Yay Barley</td>\n",
       "      <td>Right now I'm mostly just sprouting this so my...</td>\n",
       "    </tr>\n",
       "    <tr>\n",
       "      <th>9</th>\n",
       "      <td>10</td>\n",
       "      <td>0.000</td>\n",
       "      <td>0.705</td>\n",
       "      <td>0.295</td>\n",
       "      <td>0.8313</td>\n",
       "      <td>B00171APVA</td>\n",
       "      <td>A21BT40VZCCYT4</td>\n",
       "      <td>Carol A. Reed</td>\n",
       "      <td>0</td>\n",
       "      <td>0</td>\n",
       "      <td>5</td>\n",
       "      <td>1351209600</td>\n",
       "      <td>Healthy Dog Food</td>\n",
       "      <td>This is a very healthy dog food. Good for thei...</td>\n",
       "    </tr>\n",
       "  </tbody>\n",
       "</table>\n",
       "</div>"
      ],
      "text/plain": [
       "   Id    neg    neu    pos  compound   ProductId          UserId  \\\n",
       "0   1  0.000  0.695  0.305    0.9441  B001E4KFG0  A3SGXH7AUHU8GW   \n",
       "1   2  0.079  0.853  0.068   -0.1027  B00813GRG4  A1D87F6ZCVE5NK   \n",
       "2   3  0.091  0.754  0.155    0.8265  B000LQOCH0   ABXLMWJIXXAIN   \n",
       "3   4  0.000  1.000  0.000    0.0000  B000UA0QIQ  A395BORC6FGVXV   \n",
       "4   5  0.000  0.552  0.448    0.9468  B006K2ZZ7K  A1UQRSCLF8GW1T   \n",
       "5   6  0.029  0.809  0.163    0.8830  B006K2ZZ7K   ADT0SRK1MGOEU   \n",
       "6   7  0.034  0.693  0.273    0.9346  B006K2ZZ7K  A1SP2KVKFXXRU1   \n",
       "7   8  0.000  0.520  0.480    0.9487  B006K2ZZ7K  A3JRGQVEQN31IQ   \n",
       "8   9  0.000  0.851  0.149    0.6369  B000E7L2R4  A1MZYO9TZK0BBI   \n",
       "9  10  0.000  0.705  0.295    0.8313  B00171APVA  A21BT40VZCCYT4   \n",
       "\n",
       "                       ProfileName  HelpfulnessNumerator  \\\n",
       "0                       delmartian                     1   \n",
       "1                           dll pa                     0   \n",
       "2  Natalia Corres \"Natalia Corres\"                     1   \n",
       "3                             Karl                     3   \n",
       "4    Michael D. Bigham \"M. Wassir\"                     0   \n",
       "5                   Twoapennything                     0   \n",
       "6                David C. Sullivan                     0   \n",
       "7               Pamela G. Williams                     0   \n",
       "8                         R. James                     1   \n",
       "9                    Carol A. Reed                     0   \n",
       "\n",
       "   HelpfulnessDenominator  Score        Time  \\\n",
       "0                       1      5  1303862400   \n",
       "1                       0      1  1346976000   \n",
       "2                       1      4  1219017600   \n",
       "3                       3      2  1307923200   \n",
       "4                       0      5  1350777600   \n",
       "5                       0      4  1342051200   \n",
       "6                       0      5  1340150400   \n",
       "7                       0      5  1336003200   \n",
       "8                       1      5  1322006400   \n",
       "9                       0      5  1351209600   \n",
       "\n",
       "                                         Summary  \\\n",
       "0                          Good Quality Dog Food   \n",
       "1                              Not as Advertised   \n",
       "2                          \"Delight\" says it all   \n",
       "3                                 Cough Medicine   \n",
       "4                                    Great taffy   \n",
       "5                                     Nice Taffy   \n",
       "6  Great!  Just as good as the expensive brands!   \n",
       "7                         Wonderful, tasty taffy   \n",
       "8                                     Yay Barley   \n",
       "9                               Healthy Dog Food   \n",
       "\n",
       "                                                Text  \n",
       "0  I have bought several of the Vitality canned d...  \n",
       "1  Product arrived labeled as Jumbo Salted Peanut...  \n",
       "2  This is a confection that has been around a fe...  \n",
       "3  If you are looking for the secret ingredient i...  \n",
       "4  Great taffy at a great price.  There was a wid...  \n",
       "5  I got a wild hair for taffy and ordered this f...  \n",
       "6  This saltwater taffy had great flavors and was...  \n",
       "7  This taffy is so good.  It is very soft and ch...  \n",
       "8  Right now I'm mostly just sprouting this so my...  \n",
       "9  This is a very healthy dog food. Good for thei...  "
      ]
     },
     "execution_count": 14,
     "metadata": {},
     "output_type": "execute_result"
    }
   ],
   "source": [
    "vaders= pd.DataFrame(res).T #transpoze alıyoruz\n",
    "vaders=vaders.reset_index().rename(columns={\"index\":\"Id\"})\n",
    "# 'vaders' DataFrame'ini 'df' ile birleştiriyoruz\n",
    "vaders = vaders.merge( df,how='left', on='Id')\n",
    "\n",
    "# Sonuçları görüntüleme\n",
    "vaders=pd.DataFrame(vaders)\n",
    "vaders"
   ]
  },
  {
   "cell_type": "code",
   "execution_count": null,
   "id": "8a9c3292",
   "metadata": {
    "papermill": {
     "duration": 0.007606,
     "end_time": "2025-01-20T21:06:49.286435",
     "exception": false,
     "start_time": "2025-01-20T21:06:49.278829",
     "status": "completed"
    },
    "tags": []
   },
   "outputs": [],
   "source": []
  },
  {
   "cell_type": "markdown",
   "id": "4b63c403",
   "metadata": {
    "papermill": {
     "duration": 0.007874,
     "end_time": "2025-01-20T21:06:49.302353",
     "exception": false,
     "start_time": "2025-01-20T21:06:49.294479",
     "status": "completed"
    },
    "tags": []
   },
   "source": []
  },
  {
   "cell_type": "markdown",
   "id": "97cbb886",
   "metadata": {
    "papermill": {
     "duration": 0.007355,
     "end_time": "2025-01-20T21:06:49.317984",
     "exception": false,
     "start_time": "2025-01-20T21:06:49.310629",
     "status": "completed"
    },
    "tags": []
   },
   "source": []
  },
  {
   "cell_type": "markdown",
   "id": "25e958ee",
   "metadata": {
    "papermill": {
     "duration": 0.007737,
     "end_time": "2025-01-20T21:06:49.333640",
     "exception": false,
     "start_time": "2025-01-20T21:06:49.325903",
     "status": "completed"
    },
    "tags": []
   },
   "source": []
  },
  {
   "cell_type": "markdown",
   "id": "0308df94",
   "metadata": {
    "papermill": {
     "duration": 0.007458,
     "end_time": "2025-01-20T21:06:49.348974",
     "exception": false,
     "start_time": "2025-01-20T21:06:49.341516",
     "status": "completed"
    },
    "tags": []
   },
   "source": []
  },
  {
   "cell_type": "markdown",
   "id": "5cf88543",
   "metadata": {
    "papermill": {
     "duration": 0.007459,
     "end_time": "2025-01-20T21:06:49.364291",
     "exception": false,
     "start_time": "2025-01-20T21:06:49.356832",
     "status": "completed"
    },
    "tags": []
   },
   "source": []
  },
  {
   "cell_type": "markdown",
   "id": "9ac9de7e",
   "metadata": {
    "papermill": {
     "duration": 0.007571,
     "end_time": "2025-01-20T21:06:49.379578",
     "exception": false,
     "start_time": "2025-01-20T21:06:49.372007",
     "status": "completed"
    },
    "tags": []
   },
   "source": []
  },
  {
   "cell_type": "markdown",
   "id": "55fa5511",
   "metadata": {
    "papermill": {
     "duration": 0.007551,
     "end_time": "2025-01-20T21:06:49.394910",
     "exception": false,
     "start_time": "2025-01-20T21:06:49.387359",
     "status": "completed"
    },
    "tags": []
   },
   "source": []
  },
  {
   "cell_type": "markdown",
   "id": "48662ad4",
   "metadata": {
    "papermill": {
     "duration": 0.009069,
     "end_time": "2025-01-20T21:06:49.412261",
     "exception": false,
     "start_time": "2025-01-20T21:06:49.403192",
     "status": "completed"
    },
    "tags": []
   },
   "source": []
  },
  {
   "cell_type": "markdown",
   "id": "92ebee3c",
   "metadata": {
    "papermill": {
     "duration": 0.007691,
     "end_time": "2025-01-20T21:06:49.428581",
     "exception": false,
     "start_time": "2025-01-20T21:06:49.420890",
     "status": "completed"
    },
    "tags": []
   },
   "source": []
  }
 ],
 "metadata": {
  "kaggle": {
   "accelerator": "none",
   "dataSources": [
    {
     "datasetId": 18,
     "sourceId": 2157,
     "sourceType": "datasetVersion"
    }
   ],
   "dockerImageVersionId": 30839,
   "isGpuEnabled": false,
   "isInternetEnabled": false,
   "language": "python",
   "sourceType": "notebook"
  },
  "kernelspec": {
   "display_name": "Python 3",
   "language": "python",
   "name": "python3"
  },
  "language_info": {
   "codemirror_mode": {
    "name": "ipython",
    "version": 3
   },
   "file_extension": ".py",
   "mimetype": "text/x-python",
   "name": "python",
   "nbconvert_exporter": "python",
   "pygments_lexer": "ipython3",
   "version": "3.10.12"
  },
  "papermill": {
   "default_parameters": {},
   "duration": 26.96522,
   "end_time": "2025-01-20T21:06:50.862564",
   "environment_variables": {},
   "exception": null,
   "input_path": "__notebook__.ipynb",
   "output_path": "__notebook__.ipynb",
   "parameters": {},
   "start_time": "2025-01-20T21:06:23.897344",
   "version": "2.6.0"
  },
  "widgets": {
   "application/vnd.jupyter.widget-state+json": {
    "state": {
     "14036f8fc3b348c2ab1a067e25e4a504": {
      "model_module": "@jupyter-widgets/controls",
      "model_module_version": "2.0.0",
      "model_name": "ProgressStyleModel",
      "state": {
       "_model_module": "@jupyter-widgets/controls",
       "_model_module_version": "2.0.0",
       "_model_name": "ProgressStyleModel",
       "_view_count": null,
       "_view_module": "@jupyter-widgets/base",
       "_view_module_version": "2.0.0",
       "_view_name": "StyleView",
       "bar_color": null,
       "description_width": ""
      }
     },
     "2a6b1ae33f34474ca6762442fcaef76b": {
      "model_module": "@jupyter-widgets/controls",
      "model_module_version": "2.0.0",
      "model_name": "HTMLModel",
      "state": {
       "_dom_classes": [],
       "_model_module": "@jupyter-widgets/controls",
       "_model_module_version": "2.0.0",
       "_model_name": "HTMLModel",
       "_view_count": null,
       "_view_module": "@jupyter-widgets/controls",
       "_view_module_version": "2.0.0",
       "_view_name": "HTMLView",
       "description": "",
       "description_allow_html": false,
       "layout": "IPY_MODEL_3a2a6ca8ba464995abc4a4cbba304114",
       "placeholder": "​",
       "style": "IPY_MODEL_5a990f6e0158424299c57fef0ab94d57",
       "tabbable": null,
       "tooltip": null,
       "value": " 10/10 [00:00&lt;00:00, 436.08it/s]"
      }
     },
     "30a7fc1fed334a05ab20cab92d4c467b": {
      "model_module": "@jupyter-widgets/base",
      "model_module_version": "2.0.0",
      "model_name": "LayoutModel",
      "state": {
       "_model_module": "@jupyter-widgets/base",
       "_model_module_version": "2.0.0",
       "_model_name": "LayoutModel",
       "_view_count": null,
       "_view_module": "@jupyter-widgets/base",
       "_view_module_version": "2.0.0",
       "_view_name": "LayoutView",
       "align_content": null,
       "align_items": null,
       "align_self": null,
       "border_bottom": null,
       "border_left": null,
       "border_right": null,
       "border_top": null,
       "bottom": null,
       "display": null,
       "flex": null,
       "flex_flow": null,
       "grid_area": null,
       "grid_auto_columns": null,
       "grid_auto_flow": null,
       "grid_auto_rows": null,
       "grid_column": null,
       "grid_gap": null,
       "grid_row": null,
       "grid_template_areas": null,
       "grid_template_columns": null,
       "grid_template_rows": null,
       "height": null,
       "justify_content": null,
       "justify_items": null,
       "left": null,
       "margin": null,
       "max_height": null,
       "max_width": null,
       "min_height": null,
       "min_width": null,
       "object_fit": null,
       "object_position": null,
       "order": null,
       "overflow": null,
       "padding": null,
       "right": null,
       "top": null,
       "visibility": null,
       "width": null
      }
     },
     "3a2a6ca8ba464995abc4a4cbba304114": {
      "model_module": "@jupyter-widgets/base",
      "model_module_version": "2.0.0",
      "model_name": "LayoutModel",
      "state": {
       "_model_module": "@jupyter-widgets/base",
       "_model_module_version": "2.0.0",
       "_model_name": "LayoutModel",
       "_view_count": null,
       "_view_module": "@jupyter-widgets/base",
       "_view_module_version": "2.0.0",
       "_view_name": "LayoutView",
       "align_content": null,
       "align_items": null,
       "align_self": null,
       "border_bottom": null,
       "border_left": null,
       "border_right": null,
       "border_top": null,
       "bottom": null,
       "display": null,
       "flex": null,
       "flex_flow": null,
       "grid_area": null,
       "grid_auto_columns": null,
       "grid_auto_flow": null,
       "grid_auto_rows": null,
       "grid_column": null,
       "grid_gap": null,
       "grid_row": null,
       "grid_template_areas": null,
       "grid_template_columns": null,
       "grid_template_rows": null,
       "height": null,
       "justify_content": null,
       "justify_items": null,
       "left": null,
       "margin": null,
       "max_height": null,
       "max_width": null,
       "min_height": null,
       "min_width": null,
       "object_fit": null,
       "object_position": null,
       "order": null,
       "overflow": null,
       "padding": null,
       "right": null,
       "top": null,
       "visibility": null,
       "width": null
      }
     },
     "5a990f6e0158424299c57fef0ab94d57": {
      "model_module": "@jupyter-widgets/controls",
      "model_module_version": "2.0.0",
      "model_name": "HTMLStyleModel",
      "state": {
       "_model_module": "@jupyter-widgets/controls",
       "_model_module_version": "2.0.0",
       "_model_name": "HTMLStyleModel",
       "_view_count": null,
       "_view_module": "@jupyter-widgets/base",
       "_view_module_version": "2.0.0",
       "_view_name": "StyleView",
       "background": null,
       "description_width": "",
       "font_size": null,
       "text_color": null
      }
     },
     "63a6c903af9d40ec8e9bd28031b1dfd2": {
      "model_module": "@jupyter-widgets/controls",
      "model_module_version": "2.0.0",
      "model_name": "FloatProgressModel",
      "state": {
       "_dom_classes": [],
       "_model_module": "@jupyter-widgets/controls",
       "_model_module_version": "2.0.0",
       "_model_name": "FloatProgressModel",
       "_view_count": null,
       "_view_module": "@jupyter-widgets/controls",
       "_view_module_version": "2.0.0",
       "_view_name": "ProgressView",
       "bar_style": "success",
       "description": "",
       "description_allow_html": false,
       "layout": "IPY_MODEL_e98971ab59f343fc9aea8522a0e29cd9",
       "max": 10.0,
       "min": 0.0,
       "orientation": "horizontal",
       "style": "IPY_MODEL_14036f8fc3b348c2ab1a067e25e4a504",
       "tabbable": null,
       "tooltip": null,
       "value": 10.0
      }
     },
     "7fffaa77705c42cd9e4903193629644c": {
      "model_module": "@jupyter-widgets/controls",
      "model_module_version": "2.0.0",
      "model_name": "HTMLModel",
      "state": {
       "_dom_classes": [],
       "_model_module": "@jupyter-widgets/controls",
       "_model_module_version": "2.0.0",
       "_model_name": "HTMLModel",
       "_view_count": null,
       "_view_module": "@jupyter-widgets/controls",
       "_view_module_version": "2.0.0",
       "_view_name": "HTMLView",
       "description": "",
       "description_allow_html": false,
       "layout": "IPY_MODEL_30a7fc1fed334a05ab20cab92d4c467b",
       "placeholder": "​",
       "style": "IPY_MODEL_f22e660385724d45a0551deea1b6acce",
       "tabbable": null,
       "tooltip": null,
       "value": "100%"
      }
     },
     "9bc0bbe9f1d740139646aecfbfdd90ae": {
      "model_module": "@jupyter-widgets/base",
      "model_module_version": "2.0.0",
      "model_name": "LayoutModel",
      "state": {
       "_model_module": "@jupyter-widgets/base",
       "_model_module_version": "2.0.0",
       "_model_name": "LayoutModel",
       "_view_count": null,
       "_view_module": "@jupyter-widgets/base",
       "_view_module_version": "2.0.0",
       "_view_name": "LayoutView",
       "align_content": null,
       "align_items": null,
       "align_self": null,
       "border_bottom": null,
       "border_left": null,
       "border_right": null,
       "border_top": null,
       "bottom": null,
       "display": null,
       "flex": null,
       "flex_flow": null,
       "grid_area": null,
       "grid_auto_columns": null,
       "grid_auto_flow": null,
       "grid_auto_rows": null,
       "grid_column": null,
       "grid_gap": null,
       "grid_row": null,
       "grid_template_areas": null,
       "grid_template_columns": null,
       "grid_template_rows": null,
       "height": null,
       "justify_content": null,
       "justify_items": null,
       "left": null,
       "margin": null,
       "max_height": null,
       "max_width": null,
       "min_height": null,
       "min_width": null,
       "object_fit": null,
       "object_position": null,
       "order": null,
       "overflow": null,
       "padding": null,
       "right": null,
       "top": null,
       "visibility": null,
       "width": null
      }
     },
     "b283b5c49d4e471e9326dc5971f8bd31": {
      "model_module": "@jupyter-widgets/controls",
      "model_module_version": "2.0.0",
      "model_name": "HBoxModel",
      "state": {
       "_dom_classes": [],
       "_model_module": "@jupyter-widgets/controls",
       "_model_module_version": "2.0.0",
       "_model_name": "HBoxModel",
       "_view_count": null,
       "_view_module": "@jupyter-widgets/controls",
       "_view_module_version": "2.0.0",
       "_view_name": "HBoxView",
       "box_style": "",
       "children": [
        "IPY_MODEL_7fffaa77705c42cd9e4903193629644c",
        "IPY_MODEL_63a6c903af9d40ec8e9bd28031b1dfd2",
        "IPY_MODEL_2a6b1ae33f34474ca6762442fcaef76b"
       ],
       "layout": "IPY_MODEL_9bc0bbe9f1d740139646aecfbfdd90ae",
       "tabbable": null,
       "tooltip": null
      }
     },
     "e98971ab59f343fc9aea8522a0e29cd9": {
      "model_module": "@jupyter-widgets/base",
      "model_module_version": "2.0.0",
      "model_name": "LayoutModel",
      "state": {
       "_model_module": "@jupyter-widgets/base",
       "_model_module_version": "2.0.0",
       "_model_name": "LayoutModel",
       "_view_count": null,
       "_view_module": "@jupyter-widgets/base",
       "_view_module_version": "2.0.0",
       "_view_name": "LayoutView",
       "align_content": null,
       "align_items": null,
       "align_self": null,
       "border_bottom": null,
       "border_left": null,
       "border_right": null,
       "border_top": null,
       "bottom": null,
       "display": null,
       "flex": null,
       "flex_flow": null,
       "grid_area": null,
       "grid_auto_columns": null,
       "grid_auto_flow": null,
       "grid_auto_rows": null,
       "grid_column": null,
       "grid_gap": null,
       "grid_row": null,
       "grid_template_areas": null,
       "grid_template_columns": null,
       "grid_template_rows": null,
       "height": null,
       "justify_content": null,
       "justify_items": null,
       "left": null,
       "margin": null,
       "max_height": null,
       "max_width": null,
       "min_height": null,
       "min_width": null,
       "object_fit": null,
       "object_position": null,
       "order": null,
       "overflow": null,
       "padding": null,
       "right": null,
       "top": null,
       "visibility": null,
       "width": null
      }
     },
     "f22e660385724d45a0551deea1b6acce": {
      "model_module": "@jupyter-widgets/controls",
      "model_module_version": "2.0.0",
      "model_name": "HTMLStyleModel",
      "state": {
       "_model_module": "@jupyter-widgets/controls",
       "_model_module_version": "2.0.0",
       "_model_name": "HTMLStyleModel",
       "_view_count": null,
       "_view_module": "@jupyter-widgets/base",
       "_view_module_version": "2.0.0",
       "_view_name": "StyleView",
       "background": null,
       "description_width": "",
       "font_size": null,
       "text_color": null
      }
     }
    },
    "version_major": 2,
    "version_minor": 0
   }
  }
 },
 "nbformat": 4,
 "nbformat_minor": 5
}
