{
 "cells": [
  {
   "cell_type": "code",
   "execution_count": 1,
   "id": "fc5295cb",
   "metadata": {
    "execution": {
     "iopub.execute_input": "2025-01-21T14:02:43.728858Z",
     "iopub.status.busy": "2025-01-21T14:02:43.728406Z",
     "iopub.status.idle": "2025-01-21T14:02:49.033820Z",
     "shell.execute_reply": "2025-01-21T14:02:49.032190Z"
    },
    "papermill": {
     "duration": 5.322442,
     "end_time": "2025-01-21T14:02:49.036711",
     "exception": false,
     "start_time": "2025-01-21T14:02:43.714269",
     "status": "completed"
    },
    "tags": []
   },
   "outputs": [
    {
     "name": "stdout",
     "output_type": "stream",
     "text": [
      "Requirement already satisfied: tqdm in /usr/local/lib/python3.10/dist-packages (4.67.1)\r\n"
     ]
    }
   ],
   "source": [
    "!pip install tqdm\n"
   ]
  },
  {
   "cell_type": "code",
   "execution_count": 2,
   "id": "8d9250cd",
   "metadata": {
    "_cell_guid": "b1076dfc-b9ad-4769-8c92-a6c4dae69d19",
    "_uuid": "8f2839f25d086af736a60e9eeb907d3b93b6e0e5",
    "execution": {
     "iopub.execute_input": "2025-01-21T14:02:49.051218Z",
     "iopub.status.busy": "2025-01-21T14:02:49.050757Z",
     "iopub.status.idle": "2025-01-21T14:02:52.664899Z",
     "shell.execute_reply": "2025-01-21T14:02:52.663957Z"
    },
    "papermill": {
     "duration": 3.623329,
     "end_time": "2025-01-21T14:02:52.666738",
     "exception": false,
     "start_time": "2025-01-21T14:02:49.043409",
     "status": "completed"
    },
    "tags": []
   },
   "outputs": [],
   "source": [
    "import pandas as pd\n",
    "import numpy as np\n",
    "import seaborn as sns\n",
    "import matplotlib.pyplot as plt\n",
    "import nltk\n"
   ]
  },
  {
   "cell_type": "code",
   "execution_count": 3,
   "id": "ebfca4e3",
   "metadata": {
    "execution": {
     "iopub.execute_input": "2025-01-21T14:02:52.679883Z",
     "iopub.status.busy": "2025-01-21T14:02:52.679398Z",
     "iopub.status.idle": "2025-01-21T14:03:01.470369Z",
     "shell.execute_reply": "2025-01-21T14:03:01.469302Z"
    },
    "papermill": {
     "duration": 8.799508,
     "end_time": "2025-01-21T14:03:01.472254",
     "exception": false,
     "start_time": "2025-01-21T14:02:52.672746",
     "status": "completed"
    },
    "tags": []
   },
   "outputs": [
    {
     "data": {
      "text/html": [
       "<div>\n",
       "<style scoped>\n",
       "    .dataframe tbody tr th:only-of-type {\n",
       "        vertical-align: middle;\n",
       "    }\n",
       "\n",
       "    .dataframe tbody tr th {\n",
       "        vertical-align: top;\n",
       "    }\n",
       "\n",
       "    .dataframe thead th {\n",
       "        text-align: right;\n",
       "    }\n",
       "</style>\n",
       "<table border=\"1\" class=\"dataframe\">\n",
       "  <thead>\n",
       "    <tr style=\"text-align: right;\">\n",
       "      <th></th>\n",
       "      <th>Id</th>\n",
       "      <th>ProductId</th>\n",
       "      <th>UserId</th>\n",
       "      <th>ProfileName</th>\n",
       "      <th>HelpfulnessNumerator</th>\n",
       "      <th>HelpfulnessDenominator</th>\n",
       "      <th>Score</th>\n",
       "      <th>Time</th>\n",
       "      <th>Summary</th>\n",
       "      <th>Text</th>\n",
       "    </tr>\n",
       "  </thead>\n",
       "  <tbody>\n",
       "    <tr>\n",
       "      <th>0</th>\n",
       "      <td>1</td>\n",
       "      <td>B001E4KFG0</td>\n",
       "      <td>A3SGXH7AUHU8GW</td>\n",
       "      <td>delmartian</td>\n",
       "      <td>1</td>\n",
       "      <td>1</td>\n",
       "      <td>5</td>\n",
       "      <td>1303862400</td>\n",
       "      <td>Good Quality Dog Food</td>\n",
       "      <td>I have bought several of the Vitality canned d...</td>\n",
       "    </tr>\n",
       "    <tr>\n",
       "      <th>1</th>\n",
       "      <td>2</td>\n",
       "      <td>B00813GRG4</td>\n",
       "      <td>A1D87F6ZCVE5NK</td>\n",
       "      <td>dll pa</td>\n",
       "      <td>0</td>\n",
       "      <td>0</td>\n",
       "      <td>1</td>\n",
       "      <td>1346976000</td>\n",
       "      <td>Not as Advertised</td>\n",
       "      <td>Product arrived labeled as Jumbo Salted Peanut...</td>\n",
       "    </tr>\n",
       "    <tr>\n",
       "      <th>2</th>\n",
       "      <td>3</td>\n",
       "      <td>B000LQOCH0</td>\n",
       "      <td>ABXLMWJIXXAIN</td>\n",
       "      <td>Natalia Corres \"Natalia Corres\"</td>\n",
       "      <td>1</td>\n",
       "      <td>1</td>\n",
       "      <td>4</td>\n",
       "      <td>1219017600</td>\n",
       "      <td>\"Delight\" says it all</td>\n",
       "      <td>This is a confection that has been around a fe...</td>\n",
       "    </tr>\n",
       "    <tr>\n",
       "      <th>3</th>\n",
       "      <td>4</td>\n",
       "      <td>B000UA0QIQ</td>\n",
       "      <td>A395BORC6FGVXV</td>\n",
       "      <td>Karl</td>\n",
       "      <td>3</td>\n",
       "      <td>3</td>\n",
       "      <td>2</td>\n",
       "      <td>1307923200</td>\n",
       "      <td>Cough Medicine</td>\n",
       "      <td>If you are looking for the secret ingredient i...</td>\n",
       "    </tr>\n",
       "    <tr>\n",
       "      <th>4</th>\n",
       "      <td>5</td>\n",
       "      <td>B006K2ZZ7K</td>\n",
       "      <td>A1UQRSCLF8GW1T</td>\n",
       "      <td>Michael D. Bigham \"M. Wassir\"</td>\n",
       "      <td>0</td>\n",
       "      <td>0</td>\n",
       "      <td>5</td>\n",
       "      <td>1350777600</td>\n",
       "      <td>Great taffy</td>\n",
       "      <td>Great taffy at a great price.  There was a wid...</td>\n",
       "    </tr>\n",
       "    <tr>\n",
       "      <th>5</th>\n",
       "      <td>6</td>\n",
       "      <td>B006K2ZZ7K</td>\n",
       "      <td>ADT0SRK1MGOEU</td>\n",
       "      <td>Twoapennything</td>\n",
       "      <td>0</td>\n",
       "      <td>0</td>\n",
       "      <td>4</td>\n",
       "      <td>1342051200</td>\n",
       "      <td>Nice Taffy</td>\n",
       "      <td>I got a wild hair for taffy and ordered this f...</td>\n",
       "    </tr>\n",
       "    <tr>\n",
       "      <th>6</th>\n",
       "      <td>7</td>\n",
       "      <td>B006K2ZZ7K</td>\n",
       "      <td>A1SP2KVKFXXRU1</td>\n",
       "      <td>David C. Sullivan</td>\n",
       "      <td>0</td>\n",
       "      <td>0</td>\n",
       "      <td>5</td>\n",
       "      <td>1340150400</td>\n",
       "      <td>Great!  Just as good as the expensive brands!</td>\n",
       "      <td>This saltwater taffy had great flavors and was...</td>\n",
       "    </tr>\n",
       "    <tr>\n",
       "      <th>7</th>\n",
       "      <td>8</td>\n",
       "      <td>B006K2ZZ7K</td>\n",
       "      <td>A3JRGQVEQN31IQ</td>\n",
       "      <td>Pamela G. Williams</td>\n",
       "      <td>0</td>\n",
       "      <td>0</td>\n",
       "      <td>5</td>\n",
       "      <td>1336003200</td>\n",
       "      <td>Wonderful, tasty taffy</td>\n",
       "      <td>This taffy is so good.  It is very soft and ch...</td>\n",
       "    </tr>\n",
       "    <tr>\n",
       "      <th>8</th>\n",
       "      <td>9</td>\n",
       "      <td>B000E7L2R4</td>\n",
       "      <td>A1MZYO9TZK0BBI</td>\n",
       "      <td>R. James</td>\n",
       "      <td>1</td>\n",
       "      <td>1</td>\n",
       "      <td>5</td>\n",
       "      <td>1322006400</td>\n",
       "      <td>Yay Barley</td>\n",
       "      <td>Right now I'm mostly just sprouting this so my...</td>\n",
       "    </tr>\n",
       "    <tr>\n",
       "      <th>9</th>\n",
       "      <td>10</td>\n",
       "      <td>B00171APVA</td>\n",
       "      <td>A21BT40VZCCYT4</td>\n",
       "      <td>Carol A. Reed</td>\n",
       "      <td>0</td>\n",
       "      <td>0</td>\n",
       "      <td>5</td>\n",
       "      <td>1351209600</td>\n",
       "      <td>Healthy Dog Food</td>\n",
       "      <td>This is a very healthy dog food. Good for thei...</td>\n",
       "    </tr>\n",
       "  </tbody>\n",
       "</table>\n",
       "</div>"
      ],
      "text/plain": [
       "   Id   ProductId          UserId                      ProfileName  \\\n",
       "0   1  B001E4KFG0  A3SGXH7AUHU8GW                       delmartian   \n",
       "1   2  B00813GRG4  A1D87F6ZCVE5NK                           dll pa   \n",
       "2   3  B000LQOCH0   ABXLMWJIXXAIN  Natalia Corres \"Natalia Corres\"   \n",
       "3   4  B000UA0QIQ  A395BORC6FGVXV                             Karl   \n",
       "4   5  B006K2ZZ7K  A1UQRSCLF8GW1T    Michael D. Bigham \"M. Wassir\"   \n",
       "5   6  B006K2ZZ7K   ADT0SRK1MGOEU                   Twoapennything   \n",
       "6   7  B006K2ZZ7K  A1SP2KVKFXXRU1                David C. Sullivan   \n",
       "7   8  B006K2ZZ7K  A3JRGQVEQN31IQ               Pamela G. Williams   \n",
       "8   9  B000E7L2R4  A1MZYO9TZK0BBI                         R. James   \n",
       "9  10  B00171APVA  A21BT40VZCCYT4                    Carol A. Reed   \n",
       "\n",
       "   HelpfulnessNumerator  HelpfulnessDenominator  Score        Time  \\\n",
       "0                     1                       1      5  1303862400   \n",
       "1                     0                       0      1  1346976000   \n",
       "2                     1                       1      4  1219017600   \n",
       "3                     3                       3      2  1307923200   \n",
       "4                     0                       0      5  1350777600   \n",
       "5                     0                       0      4  1342051200   \n",
       "6                     0                       0      5  1340150400   \n",
       "7                     0                       0      5  1336003200   \n",
       "8                     1                       1      5  1322006400   \n",
       "9                     0                       0      5  1351209600   \n",
       "\n",
       "                                         Summary  \\\n",
       "0                          Good Quality Dog Food   \n",
       "1                              Not as Advertised   \n",
       "2                          \"Delight\" says it all   \n",
       "3                                 Cough Medicine   \n",
       "4                                    Great taffy   \n",
       "5                                     Nice Taffy   \n",
       "6  Great!  Just as good as the expensive brands!   \n",
       "7                         Wonderful, tasty taffy   \n",
       "8                                     Yay Barley   \n",
       "9                               Healthy Dog Food   \n",
       "\n",
       "                                                Text  \n",
       "0  I have bought several of the Vitality canned d...  \n",
       "1  Product arrived labeled as Jumbo Salted Peanut...  \n",
       "2  This is a confection that has been around a fe...  \n",
       "3  If you are looking for the secret ingredient i...  \n",
       "4  Great taffy at a great price.  There was a wid...  \n",
       "5  I got a wild hair for taffy and ordered this f...  \n",
       "6  This saltwater taffy had great flavors and was...  \n",
       "7  This taffy is so good.  It is very soft and ch...  \n",
       "8  Right now I'm mostly just sprouting this so my...  \n",
       "9  This is a very healthy dog food. Good for thei...  "
      ]
     },
     "execution_count": 3,
     "metadata": {},
     "output_type": "execute_result"
    }
   ],
   "source": [
    "plt.style.use('ggplot')\n",
    "\n",
    "df=pd.read_csv('/kaggle/input/amazon-fine-food-reviews/Reviews.csv')#veri okuma\n",
    "df=df.head(10)\n",
    "df\n"
   ]
  },
  {
   "cell_type": "code",
   "execution_count": 4,
   "id": "338bfc42",
   "metadata": {
    "execution": {
     "iopub.execute_input": "2025-01-21T14:03:01.486727Z",
     "iopub.status.busy": "2025-01-21T14:03:01.486374Z",
     "iopub.status.idle": "2025-01-21T14:03:01.849554Z",
     "shell.execute_reply": "2025-01-21T14:03:01.848484Z"
    },
    "papermill": {
     "duration": 0.372398,
     "end_time": "2025-01-21T14:03:01.851378",
     "exception": false,
     "start_time": "2025-01-21T14:03:01.478980",
     "status": "completed"
    },
    "tags": []
   },
   "outputs": [
    {
     "data": {
      "text/plain": [
       "<Axes: title={'center': 'Birden beşe kadar olan bütün puanların toplam oylamalari'}, xlabel='Score'>"
      ]
     },
     "execution_count": 4,
     "metadata": {},
     "output_type": "execute_result"
    },
    {
     "data": {
      "image/png": "[encoded data removed]",
      "text/plain": [
       "<Figure size 640x480 with 1 Axes>"
      ]
     },
     "metadata": {},
     "output_type": "display_data"
    }
   ],
   "source": [
    "df['Score'].value_counts().sort_index().plot(kind=\"bar\",title=\"Birden beşe kadar olan bütün puanların toplam oylamalari\")\n"
   ]
  },
  {
   "cell_type": "markdown",
   "id": "6e55b19d",
   "metadata": {
    "papermill": {
     "duration": 0.006418,
     "end_time": "2025-01-21T14:03:01.864805",
     "exception": false,
     "start_time": "2025-01-21T14:03:01.858387",
     "status": "completed"
    },
    "tags": []
   },
   "source": [
    "# Basic NLTK "
   ]
  },
  {
   "cell_type": "markdown",
   "id": "c43660d8",
   "metadata": {
    "papermill": {
     "duration": 0.006552,
     "end_time": "2025-01-21T14:03:01.879555",
     "exception": false,
     "start_time": "2025-01-21T14:03:01.873003",
     "status": "completed"
    },
    "tags": []
   },
   "source": []
  },
  {
   "cell_type": "code",
   "execution_count": null,
   "id": "b224b0d8",
   "metadata": {
    "papermill": {
     "duration": 0.006358,
     "end_time": "2025-01-21T14:03:01.892658",
     "exception": false,
     "start_time": "2025-01-21T14:03:01.886300",
     "status": "completed"
    },
    "tags": []
   },
   "outputs": [],
   "source": []
  },
  {
   "cell_type": "code",
   "execution_count": null,
   "id": "f9ec6b4b",
   "metadata": {
    "papermill": {
     "duration": 0.006233,
     "end_time": "2025-01-21T14:03:01.905589",
     "exception": false,
     "start_time": "2025-01-21T14:03:01.899356",
     "status": "completed"
    },
    "tags": []
   },
   "outputs": [],
   "source": []
  },
  {
   "cell_type": "code",
   "execution_count": 5,
   "id": "f80c77c1",
   "metadata": {
    "execution": {
     "iopub.execute_input": "2025-01-21T14:03:01.920623Z",
     "iopub.status.busy": "2025-01-21T14:03:01.920278Z",
     "iopub.status.idle": "2025-01-21T14:03:01.926555Z",
     "shell.execute_reply": "2025-01-21T14:03:01.925492Z"
    },
    "papermill": {
     "duration": 0.015975,
     "end_time": "2025-01-21T14:03:01.928236",
     "exception": false,
     "start_time": "2025-01-21T14:03:01.912261",
     "status": "completed"
    },
    "tags": []
   },
   "outputs": [
    {
     "data": {
      "text/plain": [
       "'Product arrived labeled as Jumbo Salted Peanuts...the peanuts were actually small sized unsalted. Not sure if this was an error or if the vendor intended to represent the product as \"Jumbo\".'"
      ]
     },
     "execution_count": 5,
     "metadata": {},
     "output_type": "execute_result"
    }
   ],
   "source": [
    "example=df['Text'][1] #1. satırdaki text sütunundaki cümleyi alır\n",
    "example"
   ]
  },
  {
   "cell_type": "code",
   "execution_count": 6,
   "id": "4851d44d",
   "metadata": {
    "execution": {
     "iopub.execute_input": "2025-01-21T14:03:01.943059Z",
     "iopub.status.busy": "2025-01-21T14:03:01.942659Z",
     "iopub.status.idle": "2025-01-21T14:03:01.959714Z",
     "shell.execute_reply": "2025-01-21T14:03:01.958653Z"
    },
    "papermill": {
     "duration": 0.026596,
     "end_time": "2025-01-21T14:03:01.961693",
     "exception": false,
     "start_time": "2025-01-21T14:03:01.935097",
     "status": "completed"
    },
    "tags": []
   },
   "outputs": [],
   "source": [
    "word_tokens=nltk.word_tokenize(example) #Cümleyi kelimelere ayırır"
   ]
  },
  {
   "cell_type": "code",
   "execution_count": 7,
   "id": "17aec1a5",
   "metadata": {
    "execution": {
     "iopub.execute_input": "2025-01-21T14:03:01.977219Z",
     "iopub.status.busy": "2025-01-21T14:03:01.976774Z",
     "iopub.status.idle": "2025-01-21T14:03:02.104732Z",
     "shell.execute_reply": "2025-01-21T14:03:02.103589Z"
    },
    "papermill": {
     "duration": 0.137764,
     "end_time": "2025-01-21T14:03:02.106835",
     "exception": false,
     "start_time": "2025-01-21T14:03:01.969071",
     "status": "completed"
    },
    "tags": []
   },
   "outputs": [],
   "source": [
    "tagged=nltk.pos_tag(word_tokens) #Bu etiketler, her kelimenin cümledeki dilbilgisel rolünü (isim, fiil, sıfat, edat vb.) belirtir."
   ]
  },
  {
   "cell_type": "code",
   "execution_count": null,
   "id": "10519ab6",
   "metadata": {
    "papermill": {
     "duration": 0.006796,
     "end_time": "2025-01-21T14:03:02.120694",
     "exception": false,
     "start_time": "2025-01-21T14:03:02.113898",
     "status": "completed"
    },
    "tags": []
   },
   "outputs": [],
   "source": []
  },
  {
   "cell_type": "code",
   "execution_count": 8,
   "id": "32550cea",
   "metadata": {
    "execution": {
     "iopub.execute_input": "2025-01-21T14:03:02.135905Z",
     "iopub.status.busy": "2025-01-21T14:03:02.135511Z",
     "iopub.status.idle": "2025-01-21T14:03:02.265246Z",
     "shell.execute_reply": "2025-01-21T14:03:02.263872Z"
    },
    "papermill": {
     "duration": 0.139301,
     "end_time": "2025-01-21T14:03:02.266894",
     "exception": false,
     "start_time": "2025-01-21T14:03:02.127593",
     "status": "completed"
    },
    "tags": []
   },
   "outputs": [
    {
     "name": "stdout",
     "output_type": "stream",
     "text": [
      "(S\n",
      "  (GPE Product/NNP)\n",
      "  arrived/VBD\n",
      "  labeled/VBN\n",
      "  as/IN\n",
      "  (PERSON Jumbo/NNP Salted/NNP Peanuts/NNP)\n",
      "  .../:\n",
      "  the/DT\n",
      "  peanuts/NNS\n",
      "  were/VBD\n",
      "  actually/RB\n",
      "  small/JJ\n",
      "  sized/VBN\n",
      "  unsalted/JJ\n",
      "  ./.\n",
      "  Not/RB\n",
      "  sure/JJ\n",
      "  if/IN\n",
      "  this/DT\n",
      "  was/VBD\n",
      "  an/DT\n",
      "  error/NN\n",
      "  or/CC\n",
      "  if/IN\n",
      "  the/DT\n",
      "  vendor/NN\n",
      "  intended/VBN\n",
      "  to/TO\n",
      "  represent/VB\n",
      "  the/DT\n",
      "  product/NN\n",
      "  as/IN\n",
      "  ``/``\n",
      "  Jumbo/NNP\n",
      "  ''/''\n",
      "  ./.)\n"
     ]
    }
   ],
   "source": [
    "entities=nltk.chunk.ne_chunk(tagged)\n",
    "entities.pprint()"
   ]
  },
  {
   "cell_type": "markdown",
   "id": "f419e8b2",
   "metadata": {
    "papermill": {
     "duration": 0.006571,
     "end_time": "2025-01-21T14:03:02.280536",
     "exception": false,
     "start_time": "2025-01-21T14:03:02.273965",
     "status": "completed"
    },
    "tags": []
   },
   "source": [
    "# Step 1. VADER Seniment Scoring\n",
    "  NLTK'nin SentimentIntensityAnalyzer'ını kullanarak metnin negatif (neg), nötr (neu) ve pozitif (pos) puanlarını elde edeceğiz.\n",
    "\n",
    "      * Bu, \"bag of words\" (kelime torbası) yaklaşımını kullanır:\n",
    "\n",
    "          1.  Stop words (önemsiz kelimeler) kaldırılır.\n",
    "          2. Her kelime puanlanır ve toplam bir puan oluşturmak için birleştirilir."
   ]
  },
  {
   "cell_type": "code",
   "execution_count": 9,
   "id": "26f6bf00",
   "metadata": {
    "execution": {
     "iopub.execute_input": "2025-01-21T14:03:02.295617Z",
     "iopub.status.busy": "2025-01-21T14:03:02.295258Z",
     "iopub.status.idle": "2025-01-21T14:03:02.333843Z",
     "shell.execute_reply": "2025-01-21T14:03:02.332464Z"
    },
    "papermill": {
     "duration": 0.04822,
     "end_time": "2025-01-21T14:03:02.335571",
     "exception": false,
     "start_time": "2025-01-21T14:03:02.287351",
     "status": "completed"
    },
    "tags": []
   },
   "outputs": [
    {
     "name": "stderr",
     "output_type": "stream",
     "text": [
      "/usr/local/lib/python3.10/dist-packages/nltk/twitter/__init__.py:20: UserWarning: The twython library has not been installed. Some functionality from the twitter package will not be available.\n",
      "  warnings.warn(\"The twython library has not been installed. \"\n"
     ]
    }
   ],
   "source": [
    "from nltk.sentiment  import SentimentIntensityAnalyzer\n",
    "from tqdm.notebook import tqdm\n"
   ]
  },
  {
   "cell_type": "code",
   "execution_count": 10,
   "id": "87f2a590",
   "metadata": {
    "execution": {
     "iopub.execute_input": "2025-01-21T14:03:02.350889Z",
     "iopub.status.busy": "2025-01-21T14:03:02.350523Z",
     "iopub.status.idle": "2025-01-21T14:03:02.372946Z",
     "shell.execute_reply": "2025-01-21T14:03:02.371578Z"
    },
    "papermill": {
     "duration": 0.032432,
     "end_time": "2025-01-21T14:03:02.375093",
     "exception": false,
     "start_time": "2025-01-21T14:03:02.342661",
     "status": "completed"
    },
    "tags": []
   },
   "outputs": [
    {
     "data": {
      "text/plain": [
       "{'neg': 0.0, 'neu': 0.334, 'pos': 0.666, 'compound': 0.6115}"
      ]
     },
     "execution_count": 10,
     "metadata": {},
     "output_type": "execute_result"
    }
   ],
   "source": [
    "sia=SentimentIntensityAnalyzer()\n",
    "sia.polarity_scores(\"I am so happy\")"
   ]
  },
  {
   "cell_type": "code",
   "execution_count": 11,
   "id": "9b1b65d7",
   "metadata": {
    "execution": {
     "iopub.execute_input": "2025-01-21T14:03:02.390919Z",
     "iopub.status.busy": "2025-01-21T14:03:02.390519Z",
     "iopub.status.idle": "2025-01-21T14:03:02.396671Z",
     "shell.execute_reply": "2025-01-21T14:03:02.395577Z"
    },
    "papermill": {
     "duration": 0.01596,
     "end_time": "2025-01-21T14:03:02.398449",
     "exception": false,
     "start_time": "2025-01-21T14:03:02.382489",
     "status": "completed"
    },
    "tags": []
   },
   "outputs": [
    {
     "data": {
      "text/plain": [
       "{'neg': 0.451, 'neu': 0.549, 'pos': 0.0, 'compound': -0.6249}"
      ]
     },
     "execution_count": 11,
     "metadata": {},
     "output_type": "execute_result"
    }
   ],
   "source": [
    "sia.polarity_scores(\"the is the worst thing ever\")"
   ]
  },
  {
   "cell_type": "code",
   "execution_count": 12,
   "id": "5e8f232e",
   "metadata": {
    "execution": {
     "iopub.execute_input": "2025-01-21T14:03:02.414866Z",
     "iopub.status.busy": "2025-01-21T14:03:02.414476Z",
     "iopub.status.idle": "2025-01-21T14:03:02.421228Z",
     "shell.execute_reply": "2025-01-21T14:03:02.420153Z"
    },
    "papermill": {
     "duration": 0.017527,
     "end_time": "2025-01-21T14:03:02.423331",
     "exception": false,
     "start_time": "2025-01-21T14:03:02.405804",
     "status": "completed"
    },
    "tags": []
   },
   "outputs": [
    {
     "data": {
      "text/plain": [
       "{'neg': 0.079, 'neu': 0.853, 'pos': 0.068, 'compound': -0.1027}"
      ]
     },
     "execution_count": 12,
     "metadata": {},
     "output_type": "execute_result"
    }
   ],
   "source": [
    "sia.polarity_scores(example)"
   ]
  },
  {
   "cell_type": "code",
   "execution_count": 13,
   "id": "cb26d5f8",
   "metadata": {
    "execution": {
     "iopub.execute_input": "2025-01-21T14:03:02.440214Z",
     "iopub.status.busy": "2025-01-21T14:03:02.439737Z",
     "iopub.status.idle": "2025-01-21T14:03:02.469512Z",
     "shell.execute_reply": "2025-01-21T14:03:02.468366Z"
    },
    "papermill": {
     "duration": 0.03994,
     "end_time": "2025-01-21T14:03:02.471272",
     "exception": false,
     "start_time": "2025-01-21T14:03:02.431332",
     "status": "completed"
    },
    "tags": []
   },
   "outputs": [
    {
     "data": {
      "application/vnd.jupyter.widget-view+json": {
       "model_id": "d72e064a6db24d6a858d06867424e90b",
       "version_major": 2,
       "version_minor": 0
      },
      "text/plain": [
       "  0%|          | 0/10 [00:00<?, ?it/s]"
      ]
     },
     "metadata": {},
     "output_type": "display_data"
    }
   ],
   "source": [
    "res={} #\n",
    "for i,row in tqdm(df.iterrows(),total=len(df)):\n",
    "    id=row['Id']\n",
    "    text=row['Text']\n",
    "    res[id]=sia.polarity_scores(text)\n",
    "    \n",
    "\n",
    " \n",
    "\n",
    "\n",
    "\n"
   ]
  },
  {
   "cell_type": "code",
   "execution_count": 14,
   "id": "5b2e30c7",
   "metadata": {
    "execution": {
     "iopub.execute_input": "2025-01-21T14:03:02.487897Z",
     "iopub.status.busy": "2025-01-21T14:03:02.487552Z",
     "iopub.status.idle": "2025-01-21T14:03:02.513537Z",
     "shell.execute_reply": "2025-01-21T14:03:02.512574Z"
    },
    "papermill": {
     "duration": 0.035844,
     "end_time": "2025-01-21T14:03:02.515223",
     "exception": false,
     "start_time": "2025-01-21T14:03:02.479379",
     "status": "completed"
    },
    "tags": []
   },
   "outputs": [
    {
     "data": {
      "text/html": [
       "<div>\n",
       "<style scoped>\n",
       "    .dataframe tbody tr th:only-of-type {\n",
       "        vertical-align: middle;\n",
       "    }\n",
       "\n",
       "    .dataframe tbody tr th {\n",
       "        vertical-align: top;\n",
       "    }\n",
       "\n",
       "    .dataframe thead th {\n",
       "        text-align: right;\n",
       "    }\n",
       "</style>\n",
       "<table border=\"1\" class=\"dataframe\">\n",
       "  <thead>\n",
       "    <tr style=\"text-align: right;\">\n",
       "      <th></th>\n",
       "      <th>Id</th>\n",
       "      <th>neg</th>\n",
       "      <th>neu</th>\n",
       "      <th>pos</th>\n",
       "      <th>compound</th>\n",
       "      <th>ProductId</th>\n",
       "      <th>UserId</th>\n",
       "      <th>ProfileName</th>\n",
       "      <th>HelpfulnessNumerator</th>\n",
       "      <th>HelpfulnessDenominator</th>\n",
       "      <th>Score</th>\n",
       "      <th>Time</th>\n",
       "      <th>Summary</th>\n",
       "      <th>Text</th>\n",
       "    </tr>\n",
       "  </thead>\n",
       "  <tbody>\n",
       "    <tr>\n",
       "      <th>0</th>\n",
       "      <td>1</td>\n",
       "      <td>0.000</td>\n",
       "      <td>0.695</td>\n",
       "      <td>0.305</td>\n",
       "      <td>0.9441</td>\n",
       "      <td>B001E4KFG0</td>\n",
       "      <td>A3SGXH7AUHU8GW</td>\n",
       "      <td>delmartian</td>\n",
       "      <td>1</td>\n",
       "      <td>1</td>\n",
       "      <td>5</td>\n",
       "      <td>1303862400</td>\n",
       "      <td>Good Quality Dog Food</td>\n",
       "      <td>I have bought several of the Vitality canned d...</td>\n",
       "    </tr>\n",
       "    <tr>\n",
       "      <th>1</th>\n",
       "      <td>2</td>\n",
       "      <td>0.079</td>\n",
       "      <td>0.853</td>\n",
       "      <td>0.068</td>\n",
       "      <td>-0.1027</td>\n",
       "      <td>B00813GRG4</td>\n",
       "      <td>A1D87F6ZCVE5NK</td>\n",
       "      <td>dll pa</td>\n",
       "      <td>0</td>\n",
       "      <td>0</td>\n",
       "      <td>1</td>\n",
       "      <td>1346976000</td>\n",
       "      <td>Not as Advertised</td>\n",
       "      <td>Product arrived labeled as Jumbo Salted Peanut...</td>\n",
       "    </tr>\n",
       "    <tr>\n",
       "      <th>2</th>\n",
       "      <td>3</td>\n",
       "      <td>0.091</td>\n",
       "      <td>0.754</td>\n",
       "      <td>0.155</td>\n",
       "      <td>0.8265</td>\n",
       "      <td>B000LQOCH0</td>\n",
       "      <td>ABXLMWJIXXAIN</td>\n",
       "      <td>Natalia Corres \"Natalia Corres\"</td>\n",
       "      <td>1</td>\n",
       "      <td>1</td>\n",
       "      <td>4</td>\n",
       "      <td>1219017600</td>\n",
       "      <td>\"Delight\" says it all</td>\n",
       "      <td>This is a confection that has been around a fe...</td>\n",
       "    </tr>\n",
       "    <tr>\n",
       "      <th>3</th>\n",
       "      <td>4</td>\n",
       "      <td>0.000</td>\n",
       "      <td>1.000</td>\n",
       "      <td>0.000</td>\n",
       "      <td>0.0000</td>\n",
       "      <td>B000UA0QIQ</td>\n",
       "      <td>A395BORC6FGVXV</td>\n",
       "      <td>Karl</td>\n",
       "      <td>3</td>\n",
       "      <td>3</td>\n",
       "      <td>2</td>\n",
       "      <td>1307923200</td>\n",
       "      <td>Cough Medicine</td>\n",
       "      <td>If you are looking for the secret ingredient i...</td>\n",
       "    </tr>\n",
       "    <tr>\n",
       "      <th>4</th>\n",
       "      <td>5</td>\n",
       "      <td>0.000</td>\n",
       "      <td>0.552</td>\n",
       "      <td>0.448</td>\n",
       "      <td>0.9468</td>\n",
       "      <td>B006K2ZZ7K</td>\n",
       "      <td>A1UQRSCLF8GW1T</td>\n",
       "      <td>Michael D. Bigham \"M. Wassir\"</td>\n",
       "      <td>0</td>\n",
       "      <td>0</td>\n",
       "      <td>5</td>\n",
       "      <td>1350777600</td>\n",
       "      <td>Great taffy</td>\n",
       "      <td>Great taffy at a great price.  There was a wid...</td>\n",
       "    </tr>\n",
       "    <tr>\n",
       "      <th>5</th>\n",
       "      <td>6</td>\n",
       "      <td>0.029</td>\n",
       "      <td>0.809</td>\n",
       "      <td>0.163</td>\n",
       "      <td>0.8830</td>\n",
       "      <td>B006K2ZZ7K</td>\n",
       "      <td>ADT0SRK1MGOEU</td>\n",
       "      <td>Twoapennything</td>\n",
       "      <td>0</td>\n",
       "      <td>0</td>\n",
       "      <td>4</td>\n",
       "      <td>1342051200</td>\n",
       "      <td>Nice Taffy</td>\n",
       "      <td>I got a wild hair for taffy and ordered this f...</td>\n",
       "    </tr>\n",
       "    <tr>\n",
       "      <th>6</th>\n",
       "      <td>7</td>\n",
       "      <td>0.034</td>\n",
       "      <td>0.693</td>\n",
       "      <td>0.273</td>\n",
       "      <td>0.9346</td>\n",
       "      <td>B006K2ZZ7K</td>\n",
       "      <td>A1SP2KVKFXXRU1</td>\n",
       "      <td>David C. Sullivan</td>\n",
       "      <td>0</td>\n",
       "      <td>0</td>\n",
       "      <td>5</td>\n",
       "      <td>1340150400</td>\n",
       "      <td>Great!  Just as good as the expensive brands!</td>\n",
       "      <td>This saltwater taffy had great flavors and was...</td>\n",
       "    </tr>\n",
       "    <tr>\n",
       "      <th>7</th>\n",
       "      <td>8</td>\n",
       "      <td>0.000</td>\n",
       "      <td>0.520</td>\n",
       "      <td>0.480</td>\n",
       "      <td>0.9487</td>\n",
       "      <td>B006K2ZZ7K</td>\n",
       "      <td>A3JRGQVEQN31IQ</td>\n",
       "      <td>Pamela G. Williams</td>\n",
       "      <td>0</td>\n",
       "      <td>0</td>\n",
       "      <td>5</td>\n",
       "      <td>1336003200</td>\n",
       "      <td>Wonderful, tasty taffy</td>\n",
       "      <td>This taffy is so good.  It is very soft and ch...</td>\n",
       "    </tr>\n",
       "    <tr>\n",
       "      <th>8</th>\n",
       "      <td>9</td>\n",
       "      <td>0.000</td>\n",
       "      <td>0.851</td>\n",
       "      <td>0.149</td>\n",
       "      <td>0.6369</td>\n",
       "      <td>B000E7L2R4</td>\n",
       "      <td>A1MZYO9TZK0BBI</td>\n",
       "      <td>R. James</td>\n",
       "      <td>1</td>\n",
       "      <td>1</td>\n",
       "      <td>5</td>\n",
       "      <td>1322006400</td>\n",
       "      <td>Yay Barley</td>\n",
       "      <td>Right now I'm mostly just sprouting this so my...</td>\n",
       "    </tr>\n",
       "    <tr>\n",
       "      <th>9</th>\n",
       "      <td>10</td>\n",
       "      <td>0.000</td>\n",
       "      <td>0.705</td>\n",
       "      <td>0.295</td>\n",
       "      <td>0.8313</td>\n",
       "      <td>B00171APVA</td>\n",
       "      <td>A21BT40VZCCYT4</td>\n",
       "      <td>Carol A. Reed</td>\n",
       "      <td>0</td>\n",
       "      <td>0</td>\n",
       "      <td>5</td>\n",
       "      <td>1351209600</td>\n",
       "      <td>Healthy Dog Food</td>\n",
       "      <td>This is a very healthy dog food. Good for thei...</td>\n",
       "    </tr>\n",
       "  </tbody>\n",
       "</table>\n",
       "</div>"
      ],
      "text/plain": [
       "   Id    neg    neu    pos  compound   ProductId          UserId  \\\n",
       "0   1  0.000  0.695  0.305    0.9441  B001E4KFG0  A3SGXH7AUHU8GW   \n",
       "1   2  0.079  0.853  0.068   -0.1027  B00813GRG4  A1D87F6ZCVE5NK   \n",
       "2   3  0.091  0.754  0.155    0.8265  B000LQOCH0   ABXLMWJIXXAIN   \n",
       "3   4  0.000  1.000  0.000    0.0000  B000UA0QIQ  A395BORC6FGVXV   \n",
       "4   5  0.000  0.552  0.448    0.9468  B006K2ZZ7K  A1UQRSCLF8GW1T   \n",
       "5   6  0.029  0.809  0.163    0.8830  B006K2ZZ7K   ADT0SRK1MGOEU   \n",
       "6   7  0.034  0.693  0.273    0.9346  B006K2ZZ7K  A1SP2KVKFXXRU1   \n",
       "7   8  0.000  0.520  0.480    0.9487  B006K2ZZ7K  A3JRGQVEQN31IQ   \n",
       "8   9  0.000  0.851  0.149    0.6369  B000E7L2R4  A1MZYO9TZK0BBI   \n",
       "9  10  0.000  0.705  0.295    0.8313  B00171APVA  A21BT40VZCCYT4   \n",
       "\n",
       "                       ProfileName  HelpfulnessNumerator  \\\n",
       "0                       delmartian                     1   \n",
       "1                           dll pa                     0   \n",
       "2  Natalia Corres \"Natalia Corres\"                     1   \n",
       "3                             Karl                     3   \n",
       "4    Michael D. Bigham \"M. Wassir\"                     0   \n",
       "5                   Twoapennything                     0   \n",
       "6                David C. Sullivan                     0   \n",
       "7               Pamela G. Williams                     0   \n",
       "8                         R. James                     1   \n",
       "9                    Carol A. Reed                     0   \n",
       "\n",
       "   HelpfulnessDenominator  Score        Time  \\\n",
       "0                       1      5  1303862400   \n",
       "1                       0      1  1346976000   \n",
       "2                       1      4  1219017600   \n",
       "3                       3      2  1307923200   \n",
       "4                       0      5  1350777600   \n",
       "5                       0      4  1342051200   \n",
       "6                       0      5  1340150400   \n",
       "7                       0      5  1336003200   \n",
       "8                       1      5  1322006400   \n",
       "9                       0      5  1351209600   \n",
       "\n",
       "                                         Summary  \\\n",
       "0                          Good Quality Dog Food   \n",
       "1                              Not as Advertised   \n",
       "2                          \"Delight\" says it all   \n",
       "3                                 Cough Medicine   \n",
       "4                                    Great taffy   \n",
       "5                                     Nice Taffy   \n",
       "6  Great!  Just as good as the expensive brands!   \n",
       "7                         Wonderful, tasty taffy   \n",
       "8                                     Yay Barley   \n",
       "9                               Healthy Dog Food   \n",
       "\n",
       "                                                Text  \n",
       "0  I have bought several of the Vitality canned d...  \n",
       "1  Product arrived labeled as Jumbo Salted Peanut...  \n",
       "2  This is a confection that has been around a fe...  \n",
       "3  If you are looking for the secret ingredient i...  \n",
       "4  Great taffy at a great price.  There was a wid...  \n",
       "5  I got a wild hair for taffy and ordered this f...  \n",
       "6  This saltwater taffy had great flavors and was...  \n",
       "7  This taffy is so good.  It is very soft and ch...  \n",
       "8  Right now I'm mostly just sprouting this so my...  \n",
       "9  This is a very healthy dog food. Good for thei...  "
      ]
     },
     "execution_count": 14,
     "metadata": {},
     "output_type": "execute_result"
    }
   ],
   "source": [
    "vaders= pd.DataFrame(res).T #transpoze alıyoruz\n",
    "vaders=vaders.reset_index().rename(columns={\"index\":\"Id\"})\n",
    "# 'vaders' DataFrame'ini 'df' ile birleştiriyoruz\n",
    "vaders = vaders.merge( df,how='left', on='Id')\n",
    "\n",
    "# Sonuçları görüntüleme\n",
    "vaders=pd.DataFrame(vaders)\n",
    "vaders"
   ]
  },
  {
   "cell_type": "code",
   "execution_count": 15,
   "id": "9032bdcc",
   "metadata": {
    "execution": {
     "iopub.execute_input": "2025-01-21T14:03:02.532490Z",
     "iopub.status.busy": "2025-01-21T14:03:02.532133Z",
     "iopub.status.idle": "2025-01-21T14:03:02.544860Z",
     "shell.execute_reply": "2025-01-21T14:03:02.543742Z"
    },
    "papermill": {
     "duration": 0.023215,
     "end_time": "2025-01-21T14:03:02.546503",
     "exception": false,
     "start_time": "2025-01-21T14:03:02.523288",
     "status": "completed"
    },
    "tags": []
   },
   "outputs": [
    {
     "data": {
      "text/html": [
       "<div>\n",
       "<style scoped>\n",
       "    .dataframe tbody tr th:only-of-type {\n",
       "        vertical-align: middle;\n",
       "    }\n",
       "\n",
       "    .dataframe tbody tr th {\n",
       "        vertical-align: top;\n",
       "    }\n",
       "\n",
       "    .dataframe thead th {\n",
       "        text-align: right;\n",
       "    }\n",
       "</style>\n",
       "<table border=\"1\" class=\"dataframe\">\n",
       "  <thead>\n",
       "    <tr style=\"text-align: right;\">\n",
       "      <th></th>\n",
       "      <th>Id</th>\n",
       "      <th>Score</th>\n",
       "      <th>compound</th>\n",
       "    </tr>\n",
       "  </thead>\n",
       "  <tbody>\n",
       "    <tr>\n",
       "      <th>0</th>\n",
       "      <td>1</td>\n",
       "      <td>5</td>\n",
       "      <td>0.9441</td>\n",
       "    </tr>\n",
       "    <tr>\n",
       "      <th>1</th>\n",
       "      <td>2</td>\n",
       "      <td>1</td>\n",
       "      <td>-0.1027</td>\n",
       "    </tr>\n",
       "    <tr>\n",
       "      <th>2</th>\n",
       "      <td>3</td>\n",
       "      <td>4</td>\n",
       "      <td>0.8265</td>\n",
       "    </tr>\n",
       "    <tr>\n",
       "      <th>3</th>\n",
       "      <td>4</td>\n",
       "      <td>2</td>\n",
       "      <td>0.0000</td>\n",
       "    </tr>\n",
       "    <tr>\n",
       "      <th>4</th>\n",
       "      <td>5</td>\n",
       "      <td>5</td>\n",
       "      <td>0.9468</td>\n",
       "    </tr>\n",
       "    <tr>\n",
       "      <th>5</th>\n",
       "      <td>6</td>\n",
       "      <td>4</td>\n",
       "      <td>0.8830</td>\n",
       "    </tr>\n",
       "    <tr>\n",
       "      <th>6</th>\n",
       "      <td>7</td>\n",
       "      <td>5</td>\n",
       "      <td>0.9346</td>\n",
       "    </tr>\n",
       "    <tr>\n",
       "      <th>7</th>\n",
       "      <td>8</td>\n",
       "      <td>5</td>\n",
       "      <td>0.9487</td>\n",
       "    </tr>\n",
       "    <tr>\n",
       "      <th>8</th>\n",
       "      <td>9</td>\n",
       "      <td>5</td>\n",
       "      <td>0.6369</td>\n",
       "    </tr>\n",
       "    <tr>\n",
       "      <th>9</th>\n",
       "      <td>10</td>\n",
       "      <td>5</td>\n",
       "      <td>0.8313</td>\n",
       "    </tr>\n",
       "  </tbody>\n",
       "</table>\n",
       "</div>"
      ],
      "text/plain": [
       "   Id  Score  compound\n",
       "0   1      5    0.9441\n",
       "1   2      1   -0.1027\n",
       "2   3      4    0.8265\n",
       "3   4      2    0.0000\n",
       "4   5      5    0.9468\n",
       "5   6      4    0.8830\n",
       "6   7      5    0.9346\n",
       "7   8      5    0.9487\n",
       "8   9      5    0.6369\n",
       "9  10      5    0.8313"
      ]
     },
     "execution_count": 15,
     "metadata": {},
     "output_type": "execute_result"
    }
   ],
   "source": [
    "pd.DataFrame(vaders,columns=[\"Id\",\"Score\",\"compound\"])"
   ]
  },
  {
   "cell_type": "code",
   "execution_count": 16,
   "id": "36c1ebe1",
   "metadata": {
    "execution": {
     "iopub.execute_input": "2025-01-21T14:03:02.563717Z",
     "iopub.status.busy": "2025-01-21T14:03:02.563334Z",
     "iopub.status.idle": "2025-01-21T14:03:02.747381Z",
     "shell.execute_reply": "2025-01-21T14:03:02.746278Z"
    },
    "papermill": {
     "duration": 0.194615,
     "end_time": "2025-01-21T14:03:02.749239",
     "exception": false,
     "start_time": "2025-01-21T14:03:02.554624",
     "status": "completed"
    },
    "tags": []
   },
   "outputs": [
    {
     "data": {
      "image/png": "[encoded data removed]",
      "text/plain": [
       "<Figure size 640x480 with 1 Axes>"
      ]
     },
     "metadata": {},
     "output_type": "display_data"
    }
   ],
   "source": [
    "ax=sns.barplot(data=vaders,x='Score',y='compound') #yıldız skorlarının bileşik puanı\n",
    "plt.show()"
   ]
  },
  {
   "cell_type": "markdown",
   "id": "64027caa",
   "metadata": {
    "papermill": {
     "duration": 0.008235,
     "end_time": "2025-01-21T14:03:02.766548",
     "exception": false,
     "start_time": "2025-01-21T14:03:02.758313",
     "status": "completed"
    },
    "tags": []
   },
   "source": []
  },
  {
   "cell_type": "markdown",
   "id": "fccca5b3",
   "metadata": {
    "papermill": {
     "duration": 0.007839,
     "end_time": "2025-01-21T14:03:02.782552",
     "exception": false,
     "start_time": "2025-01-21T14:03:02.774713",
     "status": "completed"
    },
    "tags": []
   },
   "source": []
  },
  {
   "cell_type": "markdown",
   "id": "836e14df",
   "metadata": {
    "papermill": {
     "duration": 0.007795,
     "end_time": "2025-01-21T14:03:02.798655",
     "exception": false,
     "start_time": "2025-01-21T14:03:02.790860",
     "status": "completed"
    },
    "tags": []
   },
   "source": []
  },
  {
   "cell_type": "code",
   "execution_count": 17,
   "id": "f5f6b4f1",
   "metadata": {
    "execution": {
     "iopub.execute_input": "2025-01-21T14:03:02.816209Z",
     "iopub.status.busy": "2025-01-21T14:03:02.815712Z",
     "iopub.status.idle": "2025-01-21T14:03:03.503648Z",
     "shell.execute_reply": "2025-01-21T14:03:03.502611Z"
    },
    "papermill": {
     "duration": 0.698509,
     "end_time": "2025-01-21T14:03:03.505257",
     "exception": false,
     "start_time": "2025-01-21T14:03:02.806748",
     "status": "completed"
    },
    "tags": []
   },
   "outputs": [
    {
     "data": {
      "image/png": "[encoded data removed]",
      "text/plain": [
       "<Figure size 1200x300 with 3 Axes>"
      ]
     },
     "metadata": {},
     "output_type": "display_data"
    }
   ],
   "source": [
    "fig,axs=plt.subplots(1,3,figsize=(12,3))\n",
    "sns.barplot(data=vaders,x='Score',y='pos',ax=axs[0]).set_title(\"Yıldız puanlarının positif duygu değerleri\")\n",
    "sns.barplot(data=vaders,x='Score',y='neg',ax=axs[1]).set_title(\"Yıldız puanlarının negatif duygu değerleri\")\n",
    "sns.barplot(data=vaders,x='Score',y='neu',ax=axs[2]).set_title(\"Yıldız puanlarının nötr değerleri\")\n",
    "plt.tight_layout()  # Grafiklerin birbirine girmesini önler"
   ]
  },
  {
   "cell_type": "code",
   "execution_count": null,
   "id": "9982ead6",
   "metadata": {
    "papermill": {
     "duration": 0.008588,
     "end_time": "2025-01-21T14:03:03.522835",
     "exception": false,
     "start_time": "2025-01-21T14:03:03.514247",
     "status": "completed"
    },
    "tags": []
   },
   "outputs": [],
   "source": []
  },
  {
   "cell_type": "markdown",
   "id": "77f6750f",
   "metadata": {
    "papermill": {
     "duration": 0.008642,
     "end_time": "2025-01-21T14:03:03.540429",
     "exception": false,
     "start_time": "2025-01-21T14:03:03.531787",
     "status": "completed"
    },
    "tags": []
   },
   "source": [
    "# Roberta Pretrained Model"
   ]
  },
  {
   "cell_type": "markdown",
   "id": "e1857fbc",
   "metadata": {
    "papermill": {
     "duration": 0.008641,
     "end_time": "2025-01-21T14:03:03.558181",
     "exception": false,
     "start_time": "2025-01-21T14:03:03.549540",
     "status": "completed"
    },
    "tags": []
   },
   "source": []
  },
  {
   "cell_type": "markdown",
   "id": "d1c14dbd",
   "metadata": {
    "papermill": {
     "duration": 0.008599,
     "end_time": "2025-01-21T14:03:03.575989",
     "exception": false,
     "start_time": "2025-01-21T14:03:03.567390",
     "status": "completed"
    },
    "tags": []
   },
   "source": []
  },
  {
   "cell_type": "markdown",
   "id": "fd326001",
   "metadata": {
    "papermill": {
     "duration": 0.008608,
     "end_time": "2025-01-21T14:03:03.593565",
     "exception": false,
     "start_time": "2025-01-21T14:03:03.584957",
     "status": "completed"
    },
    "tags": []
   },
   "source": []
  },
  {
   "cell_type": "markdown",
   "id": "04e2cb61",
   "metadata": {
    "papermill": {
     "duration": 0.008587,
     "end_time": "2025-01-21T14:03:03.611186",
     "exception": false,
     "start_time": "2025-01-21T14:03:03.602599",
     "status": "completed"
    },
    "tags": []
   },
   "source": []
  },
  {
   "cell_type": "markdown",
   "id": "86b1b443",
   "metadata": {
    "papermill": {
     "duration": 0.00855,
     "end_time": "2025-01-21T14:03:03.628707",
     "exception": false,
     "start_time": "2025-01-21T14:03:03.620157",
     "status": "completed"
    },
    "tags": []
   },
   "source": []
  },
  {
   "cell_type": "markdown",
   "id": "1687eb47",
   "metadata": {
    "papermill": {
     "duration": 0.008534,
     "end_time": "2025-01-21T14:03:03.646260",
     "exception": false,
     "start_time": "2025-01-21T14:03:03.637726",
     "status": "completed"
    },
    "tags": []
   },
   "source": []
  }
 ],
 "metadata": {
  "kaggle": {
   "accelerator": "none",
   "dataSources": [
    {
     "datasetId": 18,
     "sourceId": 2157,
     "sourceType": "datasetVersion"
    }
   ],
   "dockerImageVersionId": 30839,
   "isGpuEnabled": false,
   "isInternetEnabled": false,
   "language": "python",
   "sourceType": "notebook"
  },
  "kernelspec": {
   "display_name": "Python 3",
   "language": "python",
   "name": "python3"
  },
  "language_info": {
   "codemirror_mode": {
    "name": "ipython",
    "version": 3
   },
   "file_extension": ".py",
   "mimetype": "text/x-python",
   "name": "python",
   "nbconvert_exporter": "python",
   "pygments_lexer": "ipython3",
   "version": "3.10.12"
  },
  "papermill": {
   "default_parameters": {},
   "duration": 23.823387,
   "end_time": "2025-01-21T14:03:04.678294",
   "environment_variables": {},
   "exception": null,
   "input_path": "__notebook__.ipynb",
   "output_path": "__notebook__.ipynb",
   "parameters": {},
   "start_time": "2025-01-21T14:02:40.854907",
   "version": "2.6.0"
  },
  "widgets": {
   "application/vnd.jupyter.widget-state+json": {
    "state": {
     "195d1c3042934efa807469a01b226559": {
      "model_module": "@jupyter-widgets/controls",
      "model_module_version": "2.0.0",
      "model_name": "HTMLModel",
      "state": {
       "_dom_classes": [],
       "_model_module": "@jupyter-widgets/controls",
       "_model_module_version": "2.0.0",
       "_model_name": "HTMLModel",
       "_view_count": null,
       "_view_module": "@jupyter-widgets/controls",
       "_view_module_version": "2.0.0",
       "_view_name": "HTMLView",
       "description": "",
       "description_allow_html": false,
       "layout": "IPY_MODEL_2a305361f87049bea5dba5c7b802027b",
       "placeholder": "​",
       "style": "IPY_MODEL_1b40a88bdbe64878b45f9d89b130393d",
       "tabbable": null,
       "tooltip": null,
       "value": " 10/10 [00:00&lt;00:00, 472.90it/s]"
      }
     },
     "1b40a88bdbe64878b45f9d89b130393d": {
      "model_module": "@jupyter-widgets/controls",
      "model_module_version": "2.0.0",
      "model_name": "HTMLStyleModel",
      "state": {
       "_model_module": "@jupyter-widgets/controls",
       "_model_module_version": "2.0.0",
       "_model_name": "HTMLStyleModel",
       "_view_count": null,
       "_view_module": "@jupyter-widgets/base",
       "_view_module_version": "2.0.0",
       "_view_name": "StyleView",
       "background": null,
       "description_width": "",
       "font_size": null,
       "text_color": null
      }
     },
     "2641ea52a28545f992900161cfe3d0c4": {
      "model_module": "@jupyter-widgets/controls",
      "model_module_version": "2.0.0",
      "model_name": "ProgressStyleModel",
      "state": {
       "_model_module": "@jupyter-widgets/controls",
       "_model_module_version": "2.0.0",
       "_model_name": "ProgressStyleModel",
       "_view_count": null,
       "_view_module": "@jupyter-widgets/base",
       "_view_module_version": "2.0.0",
       "_view_name": "StyleView",
       "bar_color": null,
       "description_width": ""
      }
     },
     "2a305361f87049bea5dba5c7b802027b": {
      "model_module": "@jupyter-widgets/base",
      "model_module_version": "2.0.0",
      "model_name": "LayoutModel",
      "state": {
       "_model_module": "@jupyter-widgets/base",
       "_model_module_version": "2.0.0",
       "_model_name": "LayoutModel",
       "_view_count": null,
       "_view_module": "@jupyter-widgets/base",
       "_view_module_version": "2.0.0",
       "_view_name": "LayoutView",
       "align_content": null,
       "align_items": null,
       "align_self": null,
       "border_bottom": null,
       "border_left": null,
       "border_right": null,
       "border_top": null,
       "bottom": null,
       "display": null,
       "flex": null,
       "flex_flow": null,
       "grid_area": null,
       "grid_auto_columns": null,
       "grid_auto_flow": null,
       "grid_auto_rows": null,
       "grid_column": null,
       "grid_gap": null,
       "grid_row": null,
       "grid_template_areas": null,
       "grid_template_columns": null,
       "grid_template_rows": null,
       "height": null,
       "justify_content": null,
       "justify_items": null,
       "left": null,
       "margin": null,
       "max_height": null,
       "max_width": null,
       "min_height": null,
       "min_width": null,
       "object_fit": null,
       "object_position": null,
       "order": null,
       "overflow": null,
       "padding": null,
       "right": null,
       "top": null,
       "visibility": null,
       "width": null
      }
     },
     "4857182903c34d569875ee037cf92d33": {
      "model_module": "@jupyter-widgets/base",
      "model_module_version": "2.0.0",
      "model_name": "LayoutModel",
      "state": {
       "_model_module": "@jupyter-widgets/base",
       "_model_module_version": "2.0.0",
       "_model_name": "LayoutModel",
       "_view_count": null,
       "_view_module": "@jupyter-widgets/base",
       "_view_module_version": "2.0.0",
       "_view_name": "LayoutView",
       "align_content": null,
       "align_items": null,
       "align_self": null,
       "border_bottom": null,
       "border_left": null,
       "border_right": null,
       "border_top": null,
       "bottom": null,
       "display": null,
       "flex": null,
       "flex_flow": null,
       "grid_area": null,
       "grid_auto_columns": null,
       "grid_auto_flow": null,
       "grid_auto_rows": null,
       "grid_column": null,
       "grid_gap": null,
       "grid_row": null,
       "grid_template_areas": null,
       "grid_template_columns": null,
       "grid_template_rows": null,
       "height": null,
       "justify_content": null,
       "justify_items": null,
       "left": null,
       "margin": null,
       "max_height": null,
       "max_width": null,
       "min_height": null,
       "min_width": null,
       "object_fit": null,
       "object_position": null,
       "order": null,
       "overflow": null,
       "padding": null,
       "right": null,
       "top": null,
       "visibility": null,
       "width": null
      }
     },
     "493a8e6092ed47c9b6bd4a2ba1848ab1": {
      "model_module": "@jupyter-widgets/controls",
      "model_module_version": "2.0.0",
      "model_name": "HTMLModel",
      "state": {
       "_dom_classes": [],
       "_model_module": "@jupyter-widgets/controls",
       "_model_module_version": "2.0.0",
       "_model_name": "HTMLModel",
       "_view_count": null,
       "_view_module": "@jupyter-widgets/controls",
       "_view_module_version": "2.0.0",
       "_view_name": "HTMLView",
       "description": "",
       "description_allow_html": false,
       "layout": "IPY_MODEL_4857182903c34d569875ee037cf92d33",
       "placeholder": "​",
       "style": "IPY_MODEL_e3788329f5544e4dbafd4bde78d9efed",
       "tabbable": null,
       "tooltip": null,
       "value": "100%"
      }
     },
     "52b11206a4434907a935192e8d2a22a7": {
      "model_module": "@jupyter-widgets/base",
      "model_module_version": "2.0.0",
      "model_name": "LayoutModel",
      "state": {
       "_model_module": "@jupyter-widgets/base",
       "_model_module_version": "2.0.0",
       "_model_name": "LayoutModel",
       "_view_count": null,
       "_view_module": "@jupyter-widgets/base",
       "_view_module_version": "2.0.0",
       "_view_name": "LayoutView",
       "align_content": null,
       "align_items": null,
       "align_self": null,
       "border_bottom": null,
       "border_left": null,
       "border_right": null,
       "border_top": null,
       "bottom": null,
       "display": null,
       "flex": null,
       "flex_flow": null,
       "grid_area": null,
       "grid_auto_columns": null,
       "grid_auto_flow": null,
       "grid_auto_rows": null,
       "grid_column": null,
       "grid_gap": null,
       "grid_row": null,
       "grid_template_areas": null,
       "grid_template_columns": null,
       "grid_template_rows": null,
       "height": null,
       "justify_content": null,
       "justify_items": null,
       "left": null,
       "margin": null,
       "max_height": null,
       "max_width": null,
       "min_height": null,
       "min_width": null,
       "object_fit": null,
       "object_position": null,
       "order": null,
       "overflow": null,
       "padding": null,
       "right": null,
       "top": null,
       "visibility": null,
       "width": null
      }
     },
     "cf6791f3f2a54af1bef5a75afd1fd471": {
      "model_module": "@jupyter-widgets/base",
      "model_module_version": "2.0.0",
      "model_name": "LayoutModel",
      "state": {
       "_model_module": "@jupyter-widgets/base",
       "_model_module_version": "2.0.0",
       "_model_name": "LayoutModel",
       "_view_count": null,
       "_view_module": "@jupyter-widgets/base",
       "_view_module_version": "2.0.0",
       "_view_name": "LayoutView",
       "align_content": null,
       "align_items": null,
       "align_self": null,
       "border_bottom": null,
       "border_left": null,
       "border_right": null,
       "border_top": null,
       "bottom": null,
       "display": null,
       "flex": null,
       "flex_flow": null,
       "grid_area": null,
       "grid_auto_columns": null,
       "grid_auto_flow": null,
       "grid_auto_rows": null,
       "grid_column": null,
       "grid_gap": null,
       "grid_row": null,
       "grid_template_areas": null,
       "grid_template_columns": null,
       "grid_template_rows": null,
       "height": null,
       "justify_content": null,
       "justify_items": null,
       "left": null,
       "margin": null,
       "max_height": null,
       "max_width": null,
       "min_height": null,
       "min_width": null,
       "object_fit": null,
       "object_position": null,
       "order": null,
       "overflow": null,
       "padding": null,
       "right": null,
       "top": null,
       "visibility": null,
       "width": null
      }
     },
     "d72e064a6db24d6a858d06867424e90b": {
      "model_module": "@jupyter-widgets/controls",
      "model_module_version": "2.0.0",
      "model_name": "HBoxModel",
      "state": {
       "_dom_classes": [],
       "_model_module": "@jupyter-widgets/controls",
       "_model_module_version": "2.0.0",
       "_model_name": "HBoxModel",
       "_view_count": null,
       "_view_module": "@jupyter-widgets/controls",
       "_view_module_version": "2.0.0",
       "_view_name": "HBoxView",
       "box_style": "",
       "children": [
        "IPY_MODEL_493a8e6092ed47c9b6bd4a2ba1848ab1",
        "IPY_MODEL_d98ed415509a46888e396d5adec99b47",
        "IPY_MODEL_195d1c3042934efa807469a01b226559"
       ],
       "layout": "IPY_MODEL_52b11206a4434907a935192e8d2a22a7",
       "tabbable": null,
       "tooltip": null
      }
     },
     "d98ed415509a46888e396d5adec99b47": {
      "model_module": "@jupyter-widgets/controls",
      "model_module_version": "2.0.0",
      "model_name": "FloatProgressModel",
      "state": {
       "_dom_classes": [],
       "_model_module": "@jupyter-widgets/controls",
       "_model_module_version": "2.0.0",
       "_model_name": "FloatProgressModel",
       "_view_count": null,
       "_view_module": "@jupyter-widgets/controls",
       "_view_module_version": "2.0.0",
       "_view_name": "ProgressView",
       "bar_style": "success",
       "description": "",
       "description_allow_html": false,
       "layout": "IPY_MODEL_cf6791f3f2a54af1bef5a75afd1fd471",
       "max": 10.0,
       "min": 0.0,
       "orientation": "horizontal",
       "style": "IPY_MODEL_2641ea52a28545f992900161cfe3d0c4",
       "tabbable": null,
       "tooltip": null,
       "value": 10.0
      }
     },
     "e3788329f5544e4dbafd4bde78d9efed": {
      "model_module": "@jupyter-widgets/controls",
      "model_module_version": "2.0.0",
      "model_name": "HTMLStyleModel",
      "state": {
       "_model_module": "@jupyter-widgets/controls",
       "_model_module_version": "2.0.0",
       "_model_name": "HTMLStyleModel",
       "_view_count": null,
       "_view_module": "@jupyter-widgets/base",
       "_view_module_version": "2.0.0",
       "_view_name": "StyleView",
       "background": null,
       "description_width": "",
       "font_size": null,
       "text_color": null
      }
     }
    },
    "version_major": 2,
    "version_minor": 0
   }
  }
 },
 "nbformat": 4,
 "nbformat_minor": 5
}
